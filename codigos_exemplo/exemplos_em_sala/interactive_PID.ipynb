{
 "cells": [
  {
   "cell_type": "markdown",
   "metadata": {},
   "source": [
    "### Exemplo interativo - controlador PID aplicado a um sistema de segunda ordem"
   ]
  },
  {
   "cell_type": "code",
   "execution_count": 1,
   "metadata": {},
   "outputs": [],
   "source": [
    "# pip install control\n",
    "# pip install tbcontrol\n",
    "# pip install ipywidgets"
   ]
  },
  {
   "cell_type": "code",
   "execution_count": 2,
   "metadata": {},
   "outputs": [],
   "source": [
    "import numpy as np\n",
    "import sympy as sp\n",
    "import matplotlib.pyplot as plt\n",
    "from tbcontrol.loops import feedback\n",
    "import control as ct\n",
    "import ipywidgets as widgets\n",
    "from ipywidgets import interactive"
   ]
  },
  {
   "cell_type": "code",
   "execution_count": 3,
   "metadata": {},
   "outputs": [],
   "source": [
    "s = ct.tf([1, 0], 1)\n",
    "ts = np.linspace(0.001, 40, 500)"
   ]
  },
  {
   "cell_type": "code",
   "execution_count": 4,
   "metadata": {},
   "outputs": [],
   "source": [
    "def plotresponse(ax, G, *args, **kwargs):\n",
    "    ax.plot(*ct.step_response(G, T=ts), *args, **kwargs)"
   ]
  },
  {
   "cell_type": "code",
   "execution_count": 5,
   "metadata": {},
   "outputs": [],
   "source": [
    "cp = {\n",
    "    'red': (1.0, 0.349, 0.369, 1.0),\n",
    "    'green': (0.541, 0.788, 0.149, 1.0),\n",
    "    'blue': (0.098, 0.510, 0.769, 1.0),\n",
    "    'lred': (1.0, 0.588, 0.6, 1.0),\n",
    "    'lgreen': (0.722, 0.894, 0.443, 1.0),\n",
    "    'lblue': (0.369, 0.706, 0.918, 1.0),\n",
    "    'orange': (1.0, 0.506, 0.227, 1.0),\n",
    "    'yellow': (1.0, 0.792, 0.227, 1.0),\n",
    "    'pink': (1.0, 0.349, 0.611, 1.0),\n",
    "    'purple': (0.416, 0.298, 0.576, 1.0),\n",
    "    'turquoise': (0.098, 0.761, 0.769, 1.0),\n",
    "    'brown': (0.576, 0.380, 0.298, 1.0)\n",
    "    }\n",
    "\n",
    "def update_plot(ζ, P, Ti, Td):\n",
    "    Gp = 1/(s**2 + 2*ζ*s + 1)\n",
    "    Gc = P*(1 + 1/(Ti*s) + (Td*s)/(1+0.001*(Td*s)))\n",
    "    fig, (outputs, errors, errorint, u) = plt.subplots(\n",
    "        4, 1, figsize=(5, 10), sharex=True)\n",
    "    outputs.plot(ts, np.ones_like(ts), color='black')\n",
    "    plotresponse(outputs, Gp, color=cp['blue'], label='Planta sem controle')\n",
    "    # plotresponse(outputs, feedback(P*Gp, 1), color='teal', label='Controle P')\n",
    "    plotresponse(outputs, feedback(Gc*Gp, 1), color=cp['pink'], label='Planta com controlador PID')\n",
    "    outputs.set_ylabel(r'$y$')\n",
    "    outputs.legend()\n",
    "\n",
    "    # plotresponse(errors, 1 - feedback(P*Gp, 1), color='teal')\n",
    "    plotresponse(errors, 1 - feedback(Gc*Gp, 1), color=cp['red'])\n",
    "    errors.set_ylabel(r'$e$')\n",
    "\n",
    "    # plotresponse(u, feedback(P, Gp), color='teal')\n",
    "    plotresponse(u, feedback(Gc, Gp), color=cp['orange'])\n",
    "    u.set_ylabel('$u$')\n",
    "    u.set_xlabel(r'$ω_n t$')\n",
    "    u.set_ylim(0,1.25)\n",
    "\n",
    "    plotresponse(errorint, (1 - feedback(Gc*Gp, 1))/s, color=cp['brown'])\n",
    "    errorint.set_ylabel(r'$∫e$')\n",
    "    "
   ]
  },
  {
   "cell_type": "code",
   "execution_count": 6,
   "metadata": {},
   "outputs": [
    {
     "data": {
      "application/vnd.jupyter.widget-view+json": {
       "model_id": "08d8b4e745224308b91401f6b3655fa3",
       "version_major": 2,
       "version_minor": 0
      },
      "text/plain": [
       "interactive(children=(FloatSlider(value=0.25, description='ζ:', max=2.0, step=0.01), FloatSlider(value=1.0, de…"
      ]
     },
     "execution_count": 6,
     "metadata": {},
     "output_type": "execute_result"
    }
   ],
   "source": [
    "# Create sliders\n",
    "ζ_slider = widgets.FloatSlider(\n",
    "    value=0.25, min=0.0, max=2.0, step=0.01, description='ζ:')\n",
    "P_slider = widgets.FloatSlider(\n",
    "    value=1.0, min=0.1, max=2.0, step=0.1, description='Kp:')\n",
    "Ti_slider = widgets.FloatSlider(\n",
    "    value=1.0, min=0.01, max=2.0, step=0.01, description='Ti:')\n",
    "Td_slider = widgets.FloatSlider(\n",
    "    value=1.0, min=0.0, max=2.0, step=0.01, description='Td:')\n",
    "\n",
    "# Create the interactive plot\n",
    "interactive_plot = interactive(\n",
    "    update_plot, ζ=ζ_slider, P=P_slider, Ti=Ti_slider, Td=Td_slider)\n",
    "output = interactive_plot.children[-1]\n",
    "output.layout.height = '600px'\n",
    "interactive_plot"
   ]
  },
  {
   "cell_type": "markdown",
   "metadata": {},
   "source": [
    "#### Influência do controlador nos polos"
   ]
  },
  {
   "cell_type": "code",
   "execution_count": 7,
   "metadata": {},
   "outputs": [],
   "source": [
    "s_ = sp.Symbol('s')\n",
    "zt_ = sp.Symbol('ζ')\n",
    "K_p = sp.Symbol('K_p')\n",
    "K_i = sp.Symbol('K_i')\n",
    "K_d = sp.Symbol('K_d')"
   ]
  },
  {
   "cell_type": "code",
   "execution_count": 8,
   "metadata": {},
   "outputs": [],
   "source": [
    "G_p = 1/(s_**2 + 2*zt_*s_ + 1)\n",
    "G_c = K_p + K_i/s_ + K_d*s_"
   ]
  },
  {
   "cell_type": "code",
   "execution_count": 9,
   "metadata": {},
   "outputs": [
    {
     "data": {
      "text/latex": [
       "$\\displaystyle \\frac{1}{s^{2} + 2 s ζ + 1}$"
      ],
      "text/plain": [
       "1/(s**2 + 2*s*ζ + 1)"
      ]
     },
     "execution_count": 9,
     "metadata": {},
     "output_type": "execute_result"
    }
   ],
   "source": [
    "G_p"
   ]
  },
  {
   "cell_type": "code",
   "execution_count": 10,
   "metadata": {},
   "outputs": [
    {
     "data": {
      "text/latex": [
       "$\\displaystyle \\frac{K_{i} + s \\left(K_{d} s + K_{p}\\right)}{K_{i} + s \\left(K_{d} s + K_{p}\\right) + s \\left(s^{2} + 2 s ζ + 1\\right)}$"
      ],
      "text/plain": [
       "(K_i + s*(K_d*s + K_p))/(K_i + s*(K_d*s + K_p) + s*(s**2 + 2*s*ζ + 1))"
      ]
     },
     "execution_count": 10,
     "metadata": {},
     "output_type": "execute_result"
    }
   ],
   "source": [
    "T_p = feedback(G_c*G_p, 1).simplify()\n",
    "T_p"
   ]
  }
 ],
 "metadata": {
  "kernelspec": {
   "display_name": "P39",
   "language": "python",
   "name": "python3"
  },
  "language_info": {
   "codemirror_mode": {
    "name": "ipython",
    "version": 3
   },
   "file_extension": ".py",
   "mimetype": "text/x-python",
   "name": "python",
   "nbconvert_exporter": "python",
   "pygments_lexer": "ipython3",
   "version": "3.11.2"
  }
 },
 "nbformat": 4,
 "nbformat_minor": 2
}
