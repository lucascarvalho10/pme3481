{
 "cells": [
  {
   "cell_type": "markdown",
   "metadata": {},
   "source": [
    "# Bicicleta de Whipple\n",
    "\n",
    "\n",
    "Modelo linearizado em torno de uma solução em regime permanente na qual a bicicleta descreve uma translação em linha reta com velocidade \\(v\\) constante [(Meijaard *et al.*, 2007)](https://dx.doi.org/10.1098/rspa.2007.1857):\n",
    "\\begin{align*}\n",
    "    M \\ddot q = - v C_1 \\dot q - (g K_0 + v^2 K_2 ) q + \\tau\n",
    "\\end{align*}\n",
    "com $q = (\\phi, \\delta) \\in \\mathbb{R}^2$ e $\\tau = (\\tau_\\phi, \\tau_\\delta) = (w, u)$."
   ]
  },
  {
   "cell_type": "code",
   "execution_count": 1,
   "metadata": {},
   "outputs": [],
   "source": [
    "# !pip install sympy\n",
    "# !pip install control\n",
    "# !pip install tbcontrol\n",
    "# !pip install ipywidgets"
   ]
  },
  {
   "cell_type": "code",
   "execution_count": 2,
   "metadata": {},
   "outputs": [],
   "source": [
    "import numpy as np\n",
    "import sympy as sp\n",
    "import matplotlib.pyplot as plt\n",
    "import control as ct\n",
    "from tbcontrol.symbolic import routh\n",
    "\n",
    "import ipywidgets as widgets\n",
    "from ipywidgets import interactive"
   ]
  },
  {
   "cell_type": "code",
   "execution_count": 3,
   "metadata": {},
   "outputs": [],
   "source": [
    "# Paleta de cores\n",
    "cp = {\n",
    "    'red': (1.0, 0.349, 0.369, 1.0),\n",
    "    'green': (0.541, 0.788, 0.149, 1.0),\n",
    "    'blue': (0.098, 0.510, 0.769, 1.0),\n",
    "    'lred': (1.0, 0.588, 0.6, 1.0),\n",
    "    'lgreen': (0.722, 0.894, 0.443, 1.0),\n",
    "    'lblue': (0.369, 0.706, 0.918, 1.0),\n",
    "    'orange': (1.0, 0.506, 0.227, 1.0),\n",
    "    'yellow': (1.0, 0.792, 0.227, 1.0),\n",
    "    'pink': (1.0, 0.349, 0.611, 1.0),\n",
    "    'purple': (0.416, 0.298, 0.576, 1.0),\n",
    "    'turquoise': (0.098, 0.761, 0.769, 1.0),\n",
    "    'brown': (0.576, 0.380, 0.298, 1.0)\n",
    "}"
   ]
  },
  {
   "cell_type": "markdown",
   "metadata": {},
   "source": [
    "## Sistema na forma de espaço de estados\n",
    "\n",
    "\\begin{align*}\n",
    "    & \\dot x = A(v) x + B u + E w \\\\ \n",
    "    & y = C x\n",
    "\\end{align*}"
   ]
  },
  {
   "cell_type": "code",
   "execution_count": 4,
   "metadata": {},
   "outputs": [],
   "source": [
    "v = sp.symbols('v')\n",
    "\n",
    "M = sp.Matrix([[80.81722, 2.31941332208709],\n",
    "              [2.31941332208709, 0.29784188199686]])\n",
    "\n",
    "K0 = sp.Matrix([[-80.95,-2.59951685249872],\n",
    "                [-2.59951685249872,-0.80329488458618]])\n",
    "\n",
    "K2 = sp.Matrix([[0,76.59734589573222],\n",
    "                [0,2.65431523794604]])\n",
    "\n",
    "C1 = sp.Matrix([[0,33.86641391492494],\n",
    "                [-0.85035641456978,1.68540397397560]])\n",
    "\n",
    "A = sp.Matrix([[sp.zeros(2,2), sp.eye(2)],\n",
    "               [- M.inv() * (9.81 * K0 + v * v *K2), -M.inv()*(v*C1)]])\n",
    "\n",
    "Be = sp.Matrix([[sp.zeros(2,2)],\n",
    "               [M.inv()]])\n",
    "\n",
    "B = Be[:, 1]\n",
    "E = Be[:, 0]\n",
    "\n",
    "C_φ = sp.Matrix([[1, 0, 0, 0]])\n",
    "C_δ = sp.Matrix([[0, 1, 0, 0]])\n",
    "\n",
    "An = sp.lambdify((v), A)\n",
    "Bn = np.array(B)\n",
    "En = np.array(E)"
   ]
  },
  {
   "cell_type": "markdown",
   "metadata": {},
   "source": [
    "## Análise de estabilidade via Routh-Hurwitz"
   ]
  },
  {
   "cell_type": "code",
   "execution_count": 5,
   "metadata": {},
   "outputs": [
    {
     "data": {
      "text/latex": [
       "$\\displaystyle \\left[\\begin{matrix}1.0 & 3.5124784014838 v^{2} - 40.3985278400138 & 300.015050749107 - 8.26676015041851 v^{2}\\\\3.19038797723876 v & 3.48482071330788 v^{3} - 26.5613984620113 v & 0\\\\2.42019096241065 v^{2} - 32.0730832071012 & 300.015050749107 - 8.26676015041851 v^{2} & 0\\\\\\frac{v \\left(8.43393159596917 v^{4} - 149.67842901189 v^{2} - 105.258467931569\\right)}{2.42019096241065 v^{2} - 32.0730832071012} & 0 & 0\\\\\\frac{69.7212896289136 v^{6} - 3767.66208811193 v^{4} + 44035.6349678579 v^{2} + 31579.124598263}{- 8.43393159596917 v^{4} + 149.67842901189 v^{2} + 105.258467931569} & 0 & 0\\end{matrix}\\right]$"
      ],
      "text/plain": [
       "Matrix([\n",
       "[                                                                                                                                                         1.0,    3.5124784014838*v**2 - 40.3985278400138, 300.015050749107 - 8.26676015041851*v**2],\n",
       "[                                                                                                                                          3.19038797723876*v, 3.48482071330788*v**3 - 26.5613984620113*v,                                        0],\n",
       "[                                                                                                                    2.42019096241065*v**2 - 32.0730832071012,   300.015050749107 - 8.26676015041851*v**2,                                        0],\n",
       "[                                              v*(8.43393159596917*v**4 - 149.67842901189*v**2 - 105.258467931569)/(2.42019096241065*v**2 - 32.0730832071012),                                          0,                                        0],\n",
       "[(69.7212896289136*v**6 - 3767.66208811193*v**4 + 44035.6349678579*v**2 + 31579.124598263)/(-8.43393159596917*v**4 + 149.67842901189*v**2 + 105.258467931569),                                          0,                                        0]])"
      ]
     },
     "execution_count": 5,
     "metadata": {},
     "output_type": "execute_result"
    }
   ],
   "source": [
    "p = A.charpoly('s')\n",
    "RHm = routh(p)\n",
    "RHm"
   ]
  },
  {
   "cell_type": "code",
   "execution_count": 6,
   "metadata": {},
   "outputs": [
    {
     "data": {
      "text/latex": [
       "$\\displaystyle 0 < v \\wedge v < \\infty$"
      ],
      "text/plain": [
       "(0 < v) & (v < oo)"
      ]
     },
     "execution_count": 6,
     "metadata": {},
     "output_type": "execute_result"
    }
   ],
   "source": [
    "sp.solve(RHm[1, 0] > 0, v)"
   ]
  },
  {
   "cell_type": "code",
   "execution_count": 7,
   "metadata": {},
   "outputs": [
    {
     "data": {
      "text/latex": [
       "$\\displaystyle \\left(3.64037009499264 < v \\wedge v < \\infty\\right) \\vee \\left(-\\infty < v \\wedge v < -3.64037009499264\\right)$"
      ],
      "text/plain": [
       "((3.64037009499264 < v) & (v < oo)) | ((-oo < v) & (v < -3.64037009499264))"
      ]
     },
     "execution_count": 7,
     "metadata": {},
     "output_type": "execute_result"
    }
   ],
   "source": [
    "sp.solve(RHm[2, 0] > 0, v)"
   ]
  },
  {
   "cell_type": "code",
   "execution_count": 8,
   "metadata": {},
   "outputs": [
    {
     "data": {
      "text/latex": [
       "$\\displaystyle \\left(-4.29238253634113 < v \\wedge v < -3.64037009499264\\right) \\vee \\left(4.29238253634113 < v \\wedge v < \\infty\\right) \\vee \\left(0 < v \\wedge v < 3.64037009499264\\right)$"
      ],
      "text/plain": [
       "((-4.29238253634113 < v) & (v < -3.64037009499264)) | ((4.29238253634113 < v) & (v < oo)) | ((v < 3.64037009499264) & (0 < v))"
      ]
     },
     "execution_count": 8,
     "metadata": {},
     "output_type": "execute_result"
    }
   ],
   "source": [
    "sp.solve(RHm[3, 0] > 0, v)"
   ]
  },
  {
   "cell_type": "code",
   "execution_count": 9,
   "metadata": {},
   "outputs": [
    {
     "data": {
      "text/latex": [
       "$\\displaystyle \\left(-6.02426201538842 < v \\wedge v < -4.29238253634113\\right) \\vee \\left(-4.29238253634113 < v \\wedge v < 4.29238253634113\\right) \\vee \\left(4.29238253634113 < v \\wedge v < 6.02426201538842\\right)$"
      ],
      "text/plain": [
       "((-6.02426201538842 < v) & (v < -4.29238253634113)) | ((-4.29238253634113 < v) & (v < 4.29238253634113)) | ((4.29238253634113 < v) & (v < 6.02426201538842))"
      ]
     },
     "execution_count": 9,
     "metadata": {},
     "output_type": "execute_result"
    }
   ],
   "source": [
    "sp.solve(RHm[4, 0] > 0, v)"
   ]
  },
  {
   "cell_type": "markdown",
   "metadata": {},
   "source": [
    "De onde concluímos que a dinâmica da bicicleta em malha aberta será estável se, e somente se, $v \\in \\ ]4.292 , 6.024[ \\ \\text{m/s}$."
   ]
  },
  {
   "cell_type": "markdown",
   "metadata": {},
   "source": [
    "## Testes de Controlabilidade e Observabilidade"
   ]
  },
  {
   "cell_type": "markdown",
   "metadata": {},
   "source": [
    "###  Testes de Controlabilidade \n",
    "Controle via torque de esterçamento ($\\tau_\\delta$)"
   ]
  },
  {
   "cell_type": "code",
   "execution_count": 10,
   "metadata": {},
   "outputs": [
    {
     "data": {
      "text/latex": [
       "$\\displaystyle \\left[\\begin{matrix}0 & -0.124092025411574 & - 1.41600126801472 v & 0.855393272989635 v^{2} - 3.64878019463033\\\\0 & 4.32384018080423 & - 13.7947277283397 v & 28.8231382472343 v^{2} + 132.190216238455\\\\-0.124092025411574 & - 1.41600126801472 v & 0.855393272989635 v^{2} - 3.64878019463033 & - 1.41600126801472 v \\left(9.48977444677356 - 1.20410576129526 v^{2}\\right) - 1.4290957625375 v \\left(30.9087533932402 - 1.97171508499969 v^{2}\\right) - 0.456262208446732 v \\left(- 0.89119773805909 v^{2} - 0.571523173729231\\right) - 13.7947277283397 v \\left(0.163274617178254 v^{2} - 0.571523173729231\\right) + 0.604930236178876 v\\\\4.32384018080423 & - 13.7947277283397 v & 28.8231382472343 v^{2} + 132.190216238455 & - 1.41600126801472 v \\left(11.7194768719633 - 11.7304352110372 v^{2}\\right) - 13.3384655198929 v \\left(30.9087533932402 - 1.97171508499969 v^{2}\\right) + 15.8979182048265 v \\left(- 0.89119773805909 v^{2} - 0.571523173729231\\right) - 13.7947277283397 v \\left(6.32943948863697 v^{2} + 30.9087533932402\\right) + 0.156474813928913 v\\end{matrix}\\right]$"
      ],
      "text/plain": [
       "Matrix([\n",
       "[                 0,  -0.124092025411574,                       -1.41600126801472*v,                                                                                                                                                                                                                                                0.855393272989635*v**2 - 3.64878019463033],\n",
       "[                 0,    4.32384018080423,                       -13.7947277283397*v,                                                                                                                                                                                                                                                 28.8231382472343*v**2 + 132.190216238455],\n",
       "[-0.124092025411574, -1.41600126801472*v, 0.855393272989635*v**2 - 3.64878019463033, -1.41600126801472*v*(9.48977444677356 - 1.20410576129526*v**2) - 1.4290957625375*v*(30.9087533932402 - 1.97171508499969*v**2) - 0.456262208446732*v*(-0.89119773805909*v**2 - 0.571523173729231) - 13.7947277283397*v*(0.163274617178254*v**2 - 0.571523173729231) + 0.604930236178876*v],\n",
       "[  4.32384018080423, -13.7947277283397*v,  28.8231382472343*v**2 + 132.190216238455,   -1.41600126801472*v*(11.7194768719633 - 11.7304352110372*v**2) - 13.3384655198929*v*(30.9087533932402 - 1.97171508499969*v**2) + 15.8979182048265*v*(-0.89119773805909*v**2 - 0.571523173729231) - 13.7947277283397*v*(6.32943948863697*v**2 + 30.9087533932402) + 0.156474813928913*v]])"
      ]
     },
     "execution_count": 10,
     "metadata": {},
     "output_type": "execute_result"
    }
   ],
   "source": [
    "Q_δ = sp.Matrix([[B, A*B, A*A*B, A*A*A*B]])\n",
    "Q_δ"
   ]
  },
  {
   "cell_type": "code",
   "execution_count": 11,
   "metadata": {},
   "outputs": [
    {
     "data": {
      "text/latex": [
       "$\\displaystyle - 313.977235162467 v^{4} + 625.322912232138 v^{2} - 0.39314060730848$"
      ],
      "text/plain": [
       "-313.977235162467*v**4 + 625.322912232138*v**2 - 0.39314060730848"
      ]
     },
     "execution_count": 11,
     "metadata": {},
     "output_type": "execute_result"
    }
   ],
   "source": [
    "Q_δ.det()"
   ]
  },
  {
   "cell_type": "code",
   "execution_count": 12,
   "metadata": {},
   "outputs": [
    {
     "data": {
      "text/plain": [
       "{-1.41102435675690: 1,\n",
       " -0.0250778535121913: 1,\n",
       " 0.0250778535121913: 1,\n",
       " 1.41102435675690: 1}"
      ]
     },
     "execution_count": 12,
     "metadata": {},
     "output_type": "execute_result"
    }
   ],
   "source": [
    "sp.roots(Q_δ.det(), v)"
   ]
  },
  {
   "cell_type": "code",
   "execution_count": 13,
   "metadata": {},
   "outputs": [
    {
     "name": "stdout",
     "output_type": "stream",
     "text": [
      "[[ 0.00000000e+00 -1.24092025e-01 -1.99801228e+00 -1.94570097e+00]\n",
      " [ 0.00000000e+00  4.32384018e+00 -1.94646968e+01  1.89576789e+02]\n",
      " [-1.24092025e-01 -1.99801228e+00 -1.94570097e+00 -6.14210002e+01]\n",
      " [ 4.32384018e+00 -1.94646968e+01  1.89576789e+02 -1.38392143e+03]]\n"
     ]
    }
   ],
   "source": [
    "# matriz de controlabilidade via control.ctrb\n",
    "Qn_δ = ct.ctrb(An(1.41102435675690), Bn)\n",
    "print(Qn_δ)"
   ]
  },
  {
   "cell_type": "code",
   "execution_count": 14,
   "metadata": {},
   "outputs": [
    {
     "data": {
      "text/plain": [
       "3"
      ]
     },
     "execution_count": 14,
     "metadata": {},
     "output_type": "execute_result"
    }
   ],
   "source": [
    "# posto da matriz de controlabilidade\n",
    "np.linalg.matrix_rank(Qn_δ)"
   ]
  },
  {
   "cell_type": "markdown",
   "metadata": {},
   "source": [
    "Controle via torque $\\tau_\\phi$"
   ]
  },
  {
   "cell_type": "code",
   "execution_count": 15,
   "metadata": {},
   "outputs": [
    {
     "data": {
      "text/latex": [
       "$\\displaystyle \\left[\\begin{matrix}0 & 0.0159349789179135 & 0.0393328272776503 v & 0.222140823942802 - 0.039448477865127 v^{2}\\\\0 & -0.124092025411574 & 0.441397025299764 v & - 0.972357203650787 v^{2} - 3.64878019463033\\\\0.0159349789179135 & 0.0393328272776503 v & 0.222140823942802 - 0.039448477865127 v^{2} & 0.0393328272776503 v \\left(9.48977444677356 - 1.20410576129526 v^{2}\\right) + 0.0410143252906706 v \\left(30.9087533932402 - 1.97171508499969 v^{2}\\right) + 0.013094494522779 v \\left(- 0.89119773805909 v^{2} - 0.571523173729231\\right) + 0.441397025299764 v \\left(0.163274617178254 v^{2} - 0.571523173729231\\right) - 0.0776806610122403 v\\\\-0.124092025411574 & 0.441397025299764 v & - 0.972357203650787 v^{2} - 3.64878019463033 & 0.0393328272776503 v \\left(11.7194768719633 - 11.7304352110372 v^{2}\\right) + 0.382807211421513 v \\left(30.9087533932402 - 1.97171508499969 v^{2}\\right) - 0.456262208446732 v \\left(- 0.89119773805909 v^{2} - 0.571523173729231\\right) + 0.441397025299764 v \\left(6.32943948863697 v^{2} + 30.9087533932402\\right) - 0.0200933368028425 v\\end{matrix}\\right]$"
      ],
      "text/plain": [
       "Matrix([\n",
       "[                 0,   0.0159349789179135,                       0.0393328272776503*v,                                                                                                                                                                                                                                                     0.222140823942802 - 0.039448477865127*v**2],\n",
       "[                 0,   -0.124092025411574,                        0.441397025299764*v,                                                                                                                                                                                                                                                     -0.972357203650787*v**2 - 3.64878019463033],\n",
       "[0.0159349789179135, 0.0393328272776503*v, 0.222140823942802 - 0.039448477865127*v**2, 0.0393328272776503*v*(9.48977444677356 - 1.20410576129526*v**2) + 0.0410143252906706*v*(30.9087533932402 - 1.97171508499969*v**2) + 0.013094494522779*v*(-0.89119773805909*v**2 - 0.571523173729231) + 0.441397025299764*v*(0.163274617178254*v**2 - 0.571523173729231) - 0.0776806610122403*v],\n",
       "[-0.124092025411574,  0.441397025299764*v, -0.972357203650787*v**2 - 3.64878019463033,    0.0393328272776503*v*(11.7194768719633 - 11.7304352110372*v**2) + 0.382807211421513*v*(30.9087533932402 - 1.97171508499969*v**2) - 0.456262208446732*v*(-0.89119773805909*v**2 - 0.571523173729231) + 0.441397025299764*v*(6.32943948863697*v**2 + 30.9087533932402) - 0.0200933368028425*v]])"
      ]
     },
     "execution_count": 15,
     "metadata": {},
     "output_type": "execute_result"
    }
   ],
   "source": [
    "Q_φ = sp.Matrix([[E, A*E, A*A*E, A*A*A*E]])\n",
    "Q_φ"
   ]
  },
  {
   "cell_type": "code",
   "execution_count": 16,
   "metadata": {},
   "outputs": [
    {
     "data": {
      "text/latex": [
       "$\\displaystyle - 0.000387521991175587 v^{4} + 0.00277201935116436 v^{2} - 0.000934973153218841$"
      ],
      "text/plain": [
       "-0.000387521991175587*v**4 + 0.00277201935116436*v**2 - 0.000934973153218841"
      ]
     },
     "execution_count": 16,
     "metadata": {},
     "output_type": "execute_result"
    }
   ],
   "source": [
    "Q_φ.det()"
   ]
  },
  {
   "cell_type": "code",
   "execution_count": 17,
   "metadata": {},
   "outputs": [
    {
     "data": {
      "text/plain": [
       "{-2.60735402300071: 1,\n",
       " -0.595732633399066: 1,\n",
       " 0.595732633399066: 1,\n",
       " 2.60735402300071: 1}"
      ]
     },
     "execution_count": 17,
     "metadata": {},
     "output_type": "execute_result"
    }
   ],
   "source": [
    "sp.roots(Q_φ.det(), v)"
   ]
  },
  {
   "cell_type": "markdown",
   "metadata": {},
   "source": [
    "Em outras palavras, o sistema será **controlável** tanto pela ação individual de $\\tau_\\delta$ quanto pela ação de $\\tau_\\phi$.\n",
    "\n",
    "No entanto, como é possível observar nos diagramas de Bode abaixo, os ganhos em malha aberta associados à atuação por $\\tau_\\delta$ são significativamente maiores que os associados à atuação por $\\tau_\\phi$."
   ]
  },
  {
   "cell_type": "code",
   "execution_count": 18,
   "metadata": {},
   "outputs": [
    {
     "data": {
      "application/vnd.jupyter.widget-view+json": {
       "model_id": "ce121283a948400290cf6c3fc9624be2",
       "version_major": 2,
       "version_minor": 0
      },
      "text/plain": [
       "interactive(children=(FloatSlider(value=5.0, description='v:', max=10.0, step=0.01), Output(layout=Layout(heig…"
      ]
     },
     "execution_count": 18,
     "metadata": {},
     "output_type": "execute_result"
    }
   ],
   "source": [
    "def update_bode(v):\n",
    "    bike_MA_δ = ct.ss(An(v), B,\n",
    "                          C_φ, [[0]])\n",
    "    bike_MA_φ = ct.ss(An(v), E,\n",
    "                          C_φ, [[0]])\n",
    "    \n",
    "    plt.figure()\n",
    "    mag_δ, phase_δ, omega_δ = ct.bode_plot(\n",
    "        bike_MA_δ, omega=np.linspace(0.01, 20, 401), color=cp['blue'], dB=True)\n",
    "    mag_φ, phase_φ, omega_φ = ct.bode_plot(\n",
    "        bike_MA_φ, omega=np.linspace(0.01, 20, 401), color=cp['orange'], dB=True)\n",
    "\n",
    "    mag_ax = plt.subplot(2, 1, 1)  # magnitude plot\n",
    "    phase_ax = plt.subplot(2, 1, 2)  # phase plot\n",
    "\n",
    "    mag_ax.set_ylim([-60, 20])  # y-limits (magnitude plot)\n",
    "    phase_ax.set_ylim([-540, 0])  # y-limits (phase plot)\n",
    "    plt.legend([r'$φ/τ_δ$', r'$φ/τ_φ$'])\n",
    "\n",
    "\n",
    "v_slider = widgets.FloatSlider(\n",
    "    value=5.0, min=0.0, max=10.0, step=0.01, description=r'v:')\n",
    "\n",
    "# Create the interactive plot\n",
    "interactive_bode = interactive(\n",
    "    update_bode, v=v_slider)\n",
    "output = interactive_bode.children[-1]\n",
    "output.layout.height = '450px'\n",
    "interactive_bode"
   ]
  },
  {
   "cell_type": "markdown",
   "metadata": {},
   "source": [
    "### Testes de Observabilidade\n",
    "\n",
    "Observação apenas de $\\phi$"
   ]
  },
  {
   "cell_type": "code",
   "execution_count": 19,
   "metadata": {},
   "outputs": [
    {
     "data": {
      "text/latex": [
       "$\\displaystyle \\left[\\begin{matrix}1 & 0 & 9.48977444677356 & - 4.87485182204508 v\\\\0 & 0 & - 0.89119773805909 v^{2} - 0.571523173729231 & - 0.330515398992312 v \\left(30.9087533932402 - 1.97171508499969 v^{2}\\right) - 0.105522449805688 v \\left(- 0.89119773805909 v^{2} - 0.571523173729231\\right)\\\\0 & 1 & - 0.105522449805688 v & 9.48977444677356 - 1.20410576129526 v^{2}\\\\0 & 0 & - 0.330515398992312 v & 0.163274617178254 v^{2} - 0.571523173729231\\end{matrix}\\right]$"
      ],
      "text/plain": [
       "Matrix([\n",
       "[1, 0,                           9.48977444677356,                                                                                                                -4.87485182204508*v],\n",
       "[0, 0, -0.89119773805909*v**2 - 0.571523173729231, -0.330515398992312*v*(30.9087533932402 - 1.97171508499969*v**2) - 0.105522449805688*v*(-0.89119773805909*v**2 - 0.571523173729231)],\n",
       "[0, 1,                       -0.105522449805688*v,                                                                                           9.48977444677356 - 1.20410576129526*v**2],\n",
       "[0, 0,                       -0.330515398992312*v,                                                                                         0.163274617178254*v**2 - 0.571523173729231]])"
      ]
     },
     "execution_count": 19,
     "metadata": {},
     "output_type": "execute_result"
    }
   ],
   "source": [
    "N_φ = sp.Matrix([[C_φ.T, A.T*C_φ.T, A.T*A.T*C_φ.T, A.T*A.T*A.T*C_φ.T]])\n",
    "N_φ"
   ]
  },
  {
   "cell_type": "code",
   "execution_count": 20,
   "metadata": {},
   "outputs": [
    {
     "data": {
      "text/latex": [
       "$\\displaystyle - 0.100963152640753 v^{4} + 2.94052765102178 v^{2} - 0.326638738109532$"
      ],
      "text/plain": [
       "-0.100963152640753*v**4 + 2.94052765102178*v**2 - 0.326638738109532"
      ]
     },
     "execution_count": 20,
     "metadata": {},
     "output_type": "execute_result"
    }
   ],
   "source": [
    "N_φ.det()"
   ]
  },
  {
   "cell_type": "code",
   "execution_count": 21,
   "metadata": {},
   "outputs": [
    {
     "data": {
      "text/plain": [
       "{-5.38639508448079: 1,\n",
       " -0.333929039134734: 1,\n",
       " 0.333929039134734: 1,\n",
       " 5.38639508448079: 1}"
      ]
     },
     "execution_count": 21,
     "metadata": {},
     "output_type": "execute_result"
    }
   ],
   "source": [
    "sp.roots(N_φ.det(), v)"
   ]
  },
  {
   "cell_type": "markdown",
   "metadata": {},
   "source": [
    "Observação apenas de $\\delta$"
   ]
  },
  {
   "cell_type": "code",
   "execution_count": 22,
   "metadata": {},
   "outputs": [
    {
     "data": {
      "text/latex": [
       "$\\displaystyle \\left[\\begin{matrix}0 & 0 & 11.7194768719633 & - 1.2609578529316 v\\\\1 & 0 & 30.9087533932402 - 1.97171508499969 v^{2} & - 3.08486552743307 v \\left(30.9087533932402 - 1.97171508499969 v^{2}\\right) + 3.67680523332143 v \\left(- 0.89119773805909 v^{2} - 0.571523173729231\\right)\\\\0 & 0 & 3.67680523332143 v & 11.7194768719633 - 11.7304352110372 v^{2}\\\\0 & 1 & - 3.08486552743307 v & 6.32943948863697 v^{2} + 30.9087533932402\\end{matrix}\\right]$"
      ],
      "text/plain": [
       "Matrix([\n",
       "[0, 0,                         11.7194768719633,                                                                                                               -1.2609578529316*v],\n",
       "[1, 0, 30.9087533932402 - 1.97171508499969*v**2, -3.08486552743307*v*(30.9087533932402 - 1.97171508499969*v**2) + 3.67680523332143*v*(-0.89119773805909*v**2 - 0.571523173729231)],\n",
       "[0, 0,                       3.67680523332143*v,                                                                                         11.7194768719633 - 11.7304352110372*v**2],\n",
       "[0, 1,                      -3.08486552743307*v,                                                                                         6.32943948863697*v**2 + 30.9087533932402]])"
      ]
     },
     "execution_count": 22,
     "metadata": {},
     "output_type": "execute_result"
    }
   ],
   "source": [
    "N_δ = sp.Matrix([[C_δ.T, A.T*C_δ.T, A.T*A.T*C_δ.T, A.T*A.T*A.T*C_δ.T]])\n",
    "N_δ"
   ]
  },
  {
   "cell_type": "code",
   "execution_count": 23,
   "metadata": {},
   "outputs": [
    {
     "data": {
      "text/latex": [
       "$\\displaystyle 132.838267721158 v^{2} - 137.346138152482$"
      ],
      "text/plain": [
       "132.838267721158*v**2 - 137.346138152482"
      ]
     },
     "execution_count": 23,
     "metadata": {},
     "output_type": "execute_result"
    }
   ],
   "source": [
    "N_δ.det()"
   ]
  },
  {
   "cell_type": "code",
   "execution_count": 24,
   "metadata": {},
   "outputs": [
    {
     "data": {
      "text/plain": [
       "{-1.01682595793391: 1, 1.01682595793391: 1}"
      ]
     },
     "execution_count": 24,
     "metadata": {},
     "output_type": "execute_result"
    }
   ],
   "source": [
    "sp.roots(N_δ.det(), v)"
   ]
  },
  {
   "cell_type": "markdown",
   "metadata": {},
   "source": [
    "O sistema é **observável** tanto fazendo uma observação isolada de $\\phi$ quanto de $\\delta$. \n",
    "\n",
    "Os diagramas de Bode abaixo ilustram que, em baixas velocidades, o efeito da entrada $\\tau_\\delta$ é mais pronunciado sobre o ângulo de esterçamento $\\delta$, enquanto em velocidades mais altas, o de $\\tau_\\delta$ é mais pronunciado sobre o ângulo de inclinação lateral do quadro $\\phi$."
   ]
  },
  {
   "cell_type": "code",
   "execution_count": 25,
   "metadata": {},
   "outputs": [
    {
     "data": {
      "application/vnd.jupyter.widget-view+json": {
       "model_id": "4d6b8c631a444d44b9c90d2790e54b07",
       "version_major": 2,
       "version_minor": 0
      },
      "text/plain": [
       "interactive(children=(FloatSlider(value=5.0, description='v:', max=10.0, step=0.01), Output(layout=Layout(heig…"
      ]
     },
     "execution_count": 25,
     "metadata": {},
     "output_type": "execute_result"
    }
   ],
   "source": [
    "def update_bode(v):\n",
    "    bike_MA_δ = ct.ss(An(v), B,\n",
    "                      C_δ, [[0]])\n",
    "    bike_MA_φ = ct.ss(An(v), B,\n",
    "                      C_φ, [[0]])\n",
    "\n",
    "    plt.figure()\n",
    "    mag_δ, phase_δ, omega_δ = ct.bode_plot(\n",
    "        bike_MA_δ, omega=np.linspace(0.01, 20, 401), color=cp['lblue'], dB=True)\n",
    "    mag_φ, phase_φ, omega_φ = ct.bode_plot(\n",
    "        bike_MA_φ, omega=np.linspace(0.01, 20, 401), color=cp['blue'], dB=True)\n",
    "\n",
    "    mag_ax = plt.subplot(2, 1, 1)  # magnitude plot\n",
    "    phase_ax = plt.subplot(2, 1, 2)  # phase plot\n",
    "\n",
    "    mag_ax.set_ylim([-60, 20])  # y-limits (magnitude plot)\n",
    "    phase_ax.set_ylim([-540, 0])  # y-limits (phase plot)\n",
    "    plt.legend([r'$δ/τ_δ$', r'$φ/τ_δ$'])\n",
    "\n",
    "\n",
    "v_slider = widgets.FloatSlider(\n",
    "    value=5.0, min=0.0, max=10.0, step=0.01, description=r'v:')\n",
    "\n",
    "# Create the interactive plot\n",
    "interactive_bode = interactive(\n",
    "    update_bode, v=v_slider)\n",
    "output = interactive_bode.children[-1]\n",
    "output.layout.height = '450px'\n",
    "interactive_bode"
   ]
  },
  {
   "cell_type": "markdown",
   "metadata": {},
   "source": [
    "## Síntese de um regulador por alocação de polos"
   ]
  },
  {
   "cell_type": "markdown",
   "metadata": {},
   "source": [
    "### Pólos em MA"
   ]
  },
  {
   "cell_type": "code",
   "execution_count": 26,
   "metadata": {},
   "outputs": [],
   "source": [
    "v_range = np.linspace(0, 10, 1000)\n",
    "Reλ_MA = [np.real(np.linalg.eig(An(v))[0]) for v in v_range]\n",
    "Imλ_MA = [np.imag(np.linalg.eig(An(v))[0]) for v in v_range]"
   ]
  },
  {
   "cell_type": "code",
   "execution_count": 27,
   "metadata": {},
   "outputs": [
    {
     "data": {
      "image/png": "[encoded data removed]",
      "text/plain": [
       "<Figure size 640x480 with 1 Axes>"
      ]
     },
     "metadata": {},
     "output_type": "display_data"
    }
   ],
   "source": [
    "plt.plot(v_range, Reλ_MA, color=cp[\"blue\"], label=['Re', '', '', ''])\n",
    "plt.plot(v_range, Imλ_MA, color=cp[\"pink\"], label=['Im', '', '', ''])\n",
    "plt.xlabel(r'$v$ (m/s)')\n",
    "plt.ylabel('Polos')\n",
    "plt.title('Polos do sistema em malha aberta')\n",
    "plt.legend()\n",
    "plt.grid(True)\n",
    "plt.show()"
   ]
  },
  {
   "cell_type": "code",
   "execution_count": 28,
   "metadata": {},
   "outputs": [
    {
     "data": {
      "text/latex": [
       "$\\displaystyle \\operatorname{PurePoly}{\\left( 1.0 \\lambda^{4} + 3.19038797723876 v \\lambda^{3} + \\left(3.5124784014838 v^{2} - 40.3985278400138\\right) \\lambda^{2} + \\left(3.48482071330788 v^{3} - 26.5613984620113 v\\right) \\lambda + 300.015050749107 - 8.26676015041851 v^{2}, \\lambda, domain=\\mathbb{R}\\left[v\\right] \\right)}$"
      ],
      "text/plain": [
       "PurePoly(1.0*lambda**4 + 3.19038797723876*v*lambda**3 + (3.5124784014838*v**2 - 40.3985278400138)*lambda**2 + (3.48482071330788*v**3 - 26.5613984620113*v)*lambda + 300.015050749107 - 8.26676015041851*v**2, lambda, domain='RR[v]')"
      ]
     },
     "execution_count": 28,
     "metadata": {},
     "output_type": "execute_result"
    }
   ],
   "source": [
    "# Polinômio característico do sistema não-controlado (MA)\n",
    "p = A.charpoly()\n",
    "p"
   ]
  },
  {
   "cell_type": "code",
   "execution_count": 29,
   "metadata": {},
   "outputs": [
    {
     "data": {
      "text/plain": [
       "[1.00000000000000,\n",
       " 3.19038797723876*v,\n",
       " 3.5124784014838*v**2 - 40.3985278400138,\n",
       " 3.48482071330788*v**3 - 26.5613984620113*v,\n",
       " 300.015050749107 - 8.26676015041851*v**2]"
      ]
     },
     "execution_count": 29,
     "metadata": {},
     "output_type": "execute_result"
    }
   ],
   "source": [
    "# Coeficientes do polinômio característico do sistema não-controlado (MA)\n",
    "a = p.all_coeffs()\n",
    "a"
   ]
  },
  {
   "cell_type": "code",
   "execution_count": 30,
   "metadata": {},
   "outputs": [
    {
     "data": {
      "text/latex": [
       "$\\displaystyle \\left[\\begin{matrix}1 & 3.19038797723876 v & 3.5124784014838 v^{2} - 40.3985278400138 & 3.48482071330788 v^{3} - 26.5613984620113 v\\\\0 & 1 & 3.19038797723876 v & 3.5124784014838 v^{2} - 40.3985278400138\\\\0 & 0 & 1 & 3.19038797723876 v\\\\0 & 0 & 0 & 1\\end{matrix}\\right]$"
      ],
      "text/plain": [
       "Matrix([\n",
       "[1, 3.19038797723876*v, 3.5124784014838*v**2 - 40.3985278400138, 3.48482071330788*v**3 - 26.5613984620113*v],\n",
       "[0,                  1,                      3.19038797723876*v,    3.5124784014838*v**2 - 40.3985278400138],\n",
       "[0,                  0,                                       1,                         3.19038797723876*v],\n",
       "[0,                  0,                                       0,                                          1]])"
      ]
     },
     "execution_count": 30,
     "metadata": {},
     "output_type": "execute_result"
    }
   ],
   "source": [
    "# Matriz Toeplitz triangular W \n",
    "W = sp.Matrix([[1, a[1], a[2], a[3]],\n",
    "               [0, 1, a[1], a[2]],\n",
    "               [0, 0, 1, a[1]],\n",
    "               [0, 0, 0, 1]])\n",
    "W"
   ]
  },
  {
   "cell_type": "markdown",
   "metadata": {},
   "source": [
    "### Polos em MF\n",
    "\n",
    "Suponha que se deseje alocar os polos de malha fechada nas posições:\n",
    "* $s = - 5$,\n",
    "* $s = - 0.4$ \n",
    "* $s = - 1 + 4j$,\n",
    "* $s = - 1 - 4j$."
   ]
  },
  {
   "cell_type": "code",
   "execution_count": 31,
   "metadata": {},
   "outputs": [
    {
     "data": {
      "text/plain": [
       "[1.00000000000000,\n",
       " 7.40000000000000,\n",
       " 29.8000000000000,\n",
       " 95.8000000000000,\n",
       " 34.0000000000000]"
      ]
     },
     "execution_count": 31,
     "metadata": {},
     "output_type": "execute_result"
    }
   ],
   "source": [
    "# Polos desejados para alocação em MF \n",
    "λ = sp.symbols('λ')\n",
    "p_ = sp.PurePoly((λ + 5) * (λ + 0.4) * ((λ + 1)**2 + 4**2), λ)\n",
    "a_ = p_.all_coeffs()\n",
    "a_"
   ]
  },
  {
   "cell_type": "code",
   "execution_count": 32,
   "metadata": {},
   "outputs": [
    {
     "data": {
      "text/latex": [
       "$\\displaystyle \\left[\\begin{matrix}\\frac{\\left(7.4 - 3.19038797723876 v\\right) \\left(1.2535561339698 \\cdot 10^{-9} v^{5} + 4684854.31212722 v^{3} - 165775.734803635 v\\right)}{449734.43364912 v^{6} - 911613.539217444 v^{4} + 32257.8663608633 v^{2} - 19.9264876996215} + \\frac{\\left(11.7223104304101 - 331.274758836398 v^{2}\\right) \\left(8.26676015041851 v^{2} - 266.015050749107\\right)}{1357.58738525329 v^{4} - 2703.79633388683 v^{2} + 1.69987715458618} + \\frac{\\left(70.1985278400138 - 3.5124784014838 v^{2}\\right) \\left(498.040665151717 - 14074.7254748381 v^{2}\\right)}{5869.99088531113 v^{4} - 11690.7832291711 v^{2} + 7.34999714343089} + \\frac{\\left(- 3.48482071330788 v^{3} + 26.5613984620113 v + 95.8\\right) \\left(- 4.45272875993 \\cdot 10^{-12} v^{5} + 110266.732037376 v^{3} - 3901.83926970215 v\\right)}{104012.732858565 v^{6} - 210834.235563232 v^{4} + 7460.46685630813 v^{2} - 4.60851624166996}\\\\\\frac{\\left(7.4 - 3.19038797723876 v\\right) \\left(- 451880.864551395 v^{5} + 166432.974746013 v^{3} - 5323.49371658317 v\\right)}{449734.43364912 v^{6} - 911613.539217444 v^{4} + 32257.8663608633 v^{2} - 19.9264876996215} + \\frac{\\left(70.1985278400138 - 3.5124784014838 v^{2}\\right) \\left(1357.58738525329 v^{4} - 500.015213588823 v^{2} + 15.9933922457265\\right)}{5869.99088531113 v^{4} - 11690.7832291711 v^{2} + 7.34999714343089} + \\frac{\\left(8.26676015041851 v^{2} - 266.015050749107\\right) \\left(51.8700745147802 v^{2} + 0.336424378095828\\right)}{1357.58738525329 v^{4} - 2703.79633388683 v^{2} + 1.69987715458618} + \\frac{\\left(- 3.48482071330788 v^{3} + 26.5613984620113 v + 95.8\\right) \\left(- 10635.8539422075 v^{5} + 3917.30863028033 v^{3} - 125.298294469822 v\\right)}{104012.732858565 v^{6} - 210834.235563232 v^{4} + 7460.46685630813 v^{2} - 4.60851624166996}\\\\\\frac{6222.93727146446 v \\left(70.1985278400138 - 3.5124784014838 v^{2}\\right)}{5869.99088531113 v^{4} - 11690.7832291711 v^{2} + 7.34999714343089} + \\frac{146.468366117963 v \\left(8.26676015041851 v^{2} - 266.015050749107\\right)}{1357.58738525329 v^{4} - 2703.79633388683 v^{2} + 1.69987715458618} + \\frac{\\left(7.4 - 3.19038797723876 v\\right) \\left(- 1078347.2775116 v^{4} + 76315.633483089 v^{2} - 1350.23197892353\\right)}{449734.43364912 v^{6} - 911613.539217444 v^{4} + 32257.8663608633 v^{2} - 19.9264876996215} + \\frac{\\left(- 3.48482071330788 v^{3} + 26.5613984620113 v + 95.8\\right) \\left(- 25380.9024508629 v^{4} + 1796.22992453769 v^{2} - 31.7802129775628\\right)}{104012.732858565 v^{6} - 210834.235563232 v^{4} + 7460.46685630813 v^{2} - 4.60851624166996}\\\\\\frac{178.595151008002 v \\left(70.1985278400138 - 3.5124784014838 v^{2}\\right)}{5869.99088531113 v^{4} - 11690.7832291711 v^{2} + 7.34999714343089} + \\frac{4.20356799749278 v \\left(8.26676015041851 v^{2} - 266.015050749107\\right)}{1357.58738525329 v^{4} - 2703.79633388683 v^{2} + 1.69987715458618} + \\frac{\\left(7.4 - 3.19038797723876 v\\right) \\left(104012.732858565 v^{6} - 241782.256805446 v^{4} + 9650.6869230735 v^{2} - 43.3594908461324\\right)}{449734.43364912 v^{6} - 911613.539217444 v^{4} + 32257.8663608633 v^{2} - 19.9264876996215} + \\frac{\\left(- 3.48482071330788 v^{3} + 26.5613984620113 v + 95.8\\right) \\left(- 728.419058105738 v^{4} + 51.55088997746 v^{2} - 0.912076032297624\\right)}{104012.732858565 v^{6} - 210834.235563232 v^{4} + 7460.46685630813 v^{2} - 4.60851624166996}\\end{matrix}\\right]$"
      ],
      "text/plain": [
       "Matrix([\n",
       "[                       (7.4 - 3.19038797723876*v)*(1.2535561339698e-9*v**5 + 4684854.31212722*v**3 - 165775.734803635*v)/(449734.43364912*v**6 - 911613.539217444*v**4 + 32257.8663608633*v**2 - 19.9264876996215) + (11.7223104304101 - 331.274758836398*v**2)*(8.26676015041851*v**2 - 266.015050749107)/(1357.58738525329*v**4 - 2703.79633388683*v**2 + 1.69987715458618) + (70.1985278400138 - 3.5124784014838*v**2)*(498.040665151717 - 14074.7254748381*v**2)/(5869.99088531113*v**4 - 11690.7832291711*v**2 + 7.34999714343089) + (-3.48482071330788*v**3 + 26.5613984620113*v + 95.8)*(-4.45272875993e-12*v**5 + 110266.732037376*v**3 - 3901.83926970215*v)/(104012.732858565*v**6 - 210834.235563232*v**4 + 7460.46685630813*v**2 - 4.60851624166996)],\n",
       "[(7.4 - 3.19038797723876*v)*(-451880.864551395*v**5 + 166432.974746013*v**3 - 5323.49371658317*v)/(449734.43364912*v**6 - 911613.539217444*v**4 + 32257.8663608633*v**2 - 19.9264876996215) + (70.1985278400138 - 3.5124784014838*v**2)*(1357.58738525329*v**4 - 500.015213588823*v**2 + 15.9933922457265)/(5869.99088531113*v**4 - 11690.7832291711*v**2 + 7.34999714343089) + (8.26676015041851*v**2 - 266.015050749107)*(51.8700745147802*v**2 + 0.336424378095828)/(1357.58738525329*v**4 - 2703.79633388683*v**2 + 1.69987715458618) + (-3.48482071330788*v**3 + 26.5613984620113*v + 95.8)*(-10635.8539422075*v**5 + 3917.30863028033*v**3 - 125.298294469822*v)/(104012.732858565*v**6 - 210834.235563232*v**4 + 7460.46685630813*v**2 - 4.60851624166996)],\n",
       "[                                                                               6222.93727146446*v*(70.1985278400138 - 3.5124784014838*v**2)/(5869.99088531113*v**4 - 11690.7832291711*v**2 + 7.34999714343089) + 146.468366117963*v*(8.26676015041851*v**2 - 266.015050749107)/(1357.58738525329*v**4 - 2703.79633388683*v**2 + 1.69987715458618) + (7.4 - 3.19038797723876*v)*(-1078347.2775116*v**4 + 76315.633483089*v**2 - 1350.23197892353)/(449734.43364912*v**6 - 911613.539217444*v**4 + 32257.8663608633*v**2 - 19.9264876996215) + (-3.48482071330788*v**3 + 26.5613984620113*v + 95.8)*(-25380.9024508629*v**4 + 1796.22992453769*v**2 - 31.7802129775628)/(104012.732858565*v**6 - 210834.235563232*v**4 + 7460.46685630813*v**2 - 4.60851624166996)],\n",
       "[                                                        178.595151008002*v*(70.1985278400138 - 3.5124784014838*v**2)/(5869.99088531113*v**4 - 11690.7832291711*v**2 + 7.34999714343089) + 4.20356799749278*v*(8.26676015041851*v**2 - 266.015050749107)/(1357.58738525329*v**4 - 2703.79633388683*v**2 + 1.69987715458618) + (7.4 - 3.19038797723876*v)*(104012.732858565*v**6 - 241782.256805446*v**4 + 9650.6869230735*v**2 - 43.3594908461324)/(449734.43364912*v**6 - 911613.539217444*v**4 + 32257.8663608633*v**2 - 19.9264876996215) + (-3.48482071330788*v**3 + 26.5613984620113*v + 95.8)*(-728.419058105738*v**4 + 51.55088997746*v**2 - 0.912076032297624)/(104012.732858565*v**6 - 210834.235563232*v**4 + 7460.46685630813*v**2 - 4.60851624166996)]])"
      ]
     },
     "execution_count": 32,
     "metadata": {},
     "output_type": "execute_result"
    }
   ],
   "source": [
    "# Cálculo do ganho pela fórmula de Bass-Gura\n",
    "k = ((Q_δ*W).inv()).T * (sp.Matrix(a_[1:]) - sp.Matrix(a[1:]))\n",
    "kn = sp.lambdify((v), k)\n",
    "k"
   ]
  },
  {
   "cell_type": "code",
   "execution_count": 33,
   "metadata": {},
   "outputs": [
    {
     "data": {
      "text/plain": [
       "array([[-0.22042689],\n",
       "       [ 1.92127647],\n",
       "       [ 2.86417962],\n",
       "       [-1.89565703]])"
      ]
     },
     "execution_count": 33,
     "metadata": {},
     "output_type": "execute_result"
    }
   ],
   "source": [
    "# Exemplo de valor numérico para a matriz de ganho k\n",
    "kn(5)"
   ]
  },
  {
   "cell_type": "code",
   "execution_count": 34,
   "metadata": {},
   "outputs": [
    {
     "data": {
      "text/latex": [
       "$\\displaystyle \\left[\\begin{matrix}0 & 0 & 1 & 0\\\\0 & 0 & 0 & 1\\\\\\frac{0.124092025411574 \\cdot \\left(7.4 - 3.19038797723876 v\\right) \\left(1.2535561339698 \\cdot 10^{-9} v^{5} + 4684854.31212722 v^{3} - 165775.734803635 v\\right)}{449734.43364912 v^{6} - 911613.539217444 v^{4} + 32257.8663608633 v^{2} - 19.9264876996215} + \\frac{0.124092025411574 \\cdot \\left(11.7223104304101 - 331.274758836398 v^{2}\\right) \\left(8.26676015041851 v^{2} - 266.015050749107\\right)}{1357.58738525329 v^{4} - 2703.79633388683 v^{2} + 1.69987715458618} + \\frac{0.124092025411574 \\cdot \\left(70.1985278400138 - 3.5124784014838 v^{2}\\right) \\left(498.040665151717 - 14074.7254748381 v^{2}\\right)}{5869.99088531113 v^{4} - 11690.7832291711 v^{2} + 7.34999714343089} + \\frac{0.124092025411574 \\left(- 3.48482071330788 v^{3} + 26.5613984620113 v + 95.8\\right) \\left(- 4.45272875993 \\cdot 10^{-12} v^{5} + 110266.732037376 v^{3} - 3901.83926970215 v\\right)}{104012.732858565 v^{6} - 210834.235563232 v^{4} + 7460.46685630813 v^{2} - 4.60851624166996} + 9.48977444677356 & - 0.89119773805909 v^{2} + \\frac{0.124092025411574 \\cdot \\left(7.4 - 3.19038797723876 v\\right) \\left(- 451880.864551395 v^{5} + 166432.974746013 v^{3} - 5323.49371658317 v\\right)}{449734.43364912 v^{6} - 911613.539217444 v^{4} + 32257.8663608633 v^{2} - 19.9264876996215} + \\frac{0.124092025411574 \\cdot \\left(70.1985278400138 - 3.5124784014838 v^{2}\\right) \\left(1357.58738525329 v^{4} - 500.015213588823 v^{2} + 15.9933922457265\\right)}{5869.99088531113 v^{4} - 11690.7832291711 v^{2} + 7.34999714343089} + \\frac{0.124092025411574 \\cdot \\left(8.26676015041851 v^{2} - 266.015050749107\\right) \\left(51.8700745147802 v^{2} + 0.336424378095828\\right)}{1357.58738525329 v^{4} - 2703.79633388683 v^{2} + 1.69987715458618} + \\frac{0.124092025411574 \\left(- 3.48482071330788 v^{3} + 26.5613984620113 v + 95.8\\right) \\left(- 10635.8539422075 v^{5} + 3917.30863028033 v^{3} - 125.298294469822 v\\right)}{104012.732858565 v^{6} - 210834.235563232 v^{4} + 7460.46685630813 v^{2} - 4.60851624166996} - 0.571523173729231 & \\frac{772.216890025199 v \\left(70.1985278400138 - 3.5124784014838 v^{2}\\right)}{5869.99088531113 v^{4} - 11690.7832291711 v^{2} + 7.34999714343089} + \\frac{18.175556210302 v \\left(8.26676015041851 v^{2} - 266.015050749107\\right)}{1357.58738525329 v^{4} - 2703.79633388683 v^{2} + 1.69987715458618} - 0.105522449805688 v + \\frac{0.124092025411574 \\cdot \\left(7.4 - 3.19038797723876 v\\right) \\left(- 1078347.2775116 v^{4} + 76315.633483089 v^{2} - 1350.23197892353\\right)}{449734.43364912 v^{6} - 911613.539217444 v^{4} + 32257.8663608633 v^{2} - 19.9264876996215} + \\frac{0.124092025411574 \\left(- 3.48482071330788 v^{3} + 26.5613984620113 v + 95.8\\right) \\left(- 25380.9024508629 v^{4} + 1796.22992453769 v^{2} - 31.7802129775628\\right)}{104012.732858565 v^{6} - 210834.235563232 v^{4} + 7460.46685630813 v^{2} - 4.60851624166996} & \\frac{22.1622340172689 v \\left(70.1985278400138 - 3.5124784014838 v^{2}\\right)}{5869.99088531113 v^{4} - 11690.7832291711 v^{2} + 7.34999714343089} + \\frac{0.521629266764154 v \\left(8.26676015041851 v^{2} - 266.015050749107\\right)}{1357.58738525329 v^{4} - 2703.79633388683 v^{2} + 1.69987715458618} - 0.330515398992312 v + \\frac{0.124092025411574 \\cdot \\left(7.4 - 3.19038797723876 v\\right) \\left(104012.732858565 v^{6} - 241782.256805446 v^{4} + 9650.6869230735 v^{2} - 43.3594908461324\\right)}{449734.43364912 v^{6} - 911613.539217444 v^{4} + 32257.8663608633 v^{2} - 19.9264876996215} + \\frac{0.124092025411574 \\left(- 3.48482071330788 v^{3} + 26.5613984620113 v + 95.8\\right) \\left(- 728.419058105738 v^{4} + 51.55088997746 v^{2} - 0.912076032297624\\right)}{104012.732858565 v^{6} - 210834.235563232 v^{4} + 7460.46685630813 v^{2} - 4.60851624166996}\\\\- \\frac{4.32384018080423 \\cdot \\left(7.4 - 3.19038797723876 v\\right) \\left(1.2535561339698 \\cdot 10^{-9} v^{5} + 4684854.31212722 v^{3} - 165775.734803635 v\\right)}{449734.43364912 v^{6} - 911613.539217444 v^{4} + 32257.8663608633 v^{2} - 19.9264876996215} - \\frac{4.32384018080423 \\cdot \\left(11.7223104304101 - 331.274758836398 v^{2}\\right) \\left(8.26676015041851 v^{2} - 266.015050749107\\right)}{1357.58738525329 v^{4} - 2703.79633388683 v^{2} + 1.69987715458618} - \\frac{4.32384018080423 \\cdot \\left(70.1985278400138 - 3.5124784014838 v^{2}\\right) \\left(498.040665151717 - 14074.7254748381 v^{2}\\right)}{5869.99088531113 v^{4} - 11690.7832291711 v^{2} + 7.34999714343089} - \\frac{4.32384018080423 \\left(- 3.48482071330788 v^{3} + 26.5613984620113 v + 95.8\\right) \\left(- 4.45272875993 \\cdot 10^{-12} v^{5} + 110266.732037376 v^{3} - 3901.83926970215 v\\right)}{104012.732858565 v^{6} - 210834.235563232 v^{4} + 7460.46685630813 v^{2} - 4.60851624166996} + 11.7194768719633 & - 1.97171508499969 v^{2} - \\frac{4.32384018080423 \\cdot \\left(7.4 - 3.19038797723876 v\\right) \\left(- 451880.864551395 v^{5} + 166432.974746013 v^{3} - 5323.49371658317 v\\right)}{449734.43364912 v^{6} - 911613.539217444 v^{4} + 32257.8663608633 v^{2} - 19.9264876996215} - \\frac{4.32384018080423 \\cdot \\left(70.1985278400138 - 3.5124784014838 v^{2}\\right) \\left(1357.58738525329 v^{4} - 500.015213588823 v^{2} + 15.9933922457265\\right)}{5869.99088531113 v^{4} - 11690.7832291711 v^{2} + 7.34999714343089} - \\frac{4.32384018080423 \\cdot \\left(8.26676015041851 v^{2} - 266.015050749107\\right) \\left(51.8700745147802 v^{2} + 0.336424378095828\\right)}{1357.58738525329 v^{4} - 2703.79633388683 v^{2} + 1.69987715458618} - \\frac{4.32384018080423 \\left(- 3.48482071330788 v^{3} + 26.5613984620113 v + 95.8\\right) \\left(- 10635.8539422075 v^{5} + 3917.30863028033 v^{3} - 125.298294469822 v\\right)}{104012.732858565 v^{6} - 210834.235563232 v^{4} + 7460.46685630813 v^{2} - 4.60851624166996} + 30.9087533932402 & - \\frac{26906.9862169822 v \\left(70.1985278400138 - 3.5124784014838 v^{2}\\right)}{5869.99088531113 v^{4} - 11690.7832291711 v^{2} + 7.34999714343089} - \\frac{633.305806637594 v \\left(8.26676015041851 v^{2} - 266.015050749107\\right)}{1357.58738525329 v^{4} - 2703.79633388683 v^{2} + 1.69987715458618} + 3.67680523332143 v - \\frac{4.32384018080423 \\cdot \\left(7.4 - 3.19038797723876 v\\right) \\left(- 1078347.2775116 v^{4} + 76315.633483089 v^{2} - 1350.23197892353\\right)}{449734.43364912 v^{6} - 911613.539217444 v^{4} + 32257.8663608633 v^{2} - 19.9264876996215} - \\frac{4.32384018080423 \\left(- 3.48482071330788 v^{3} + 26.5613984620113 v + 95.8\\right) \\left(- 25380.9024508629 v^{4} + 1796.22992453769 v^{2} - 31.7802129775628\\right)}{104012.732858565 v^{6} - 210834.235563232 v^{4} + 7460.46685630813 v^{2} - 4.60851624166996} & - \\frac{772.216890025199 v \\left(70.1985278400138 - 3.5124784014838 v^{2}\\right)}{5869.99088531113 v^{4} - 11690.7832291711 v^{2} + 7.34999714343089} - \\frac{18.175556210302 v \\left(8.26676015041851 v^{2} - 266.015050749107\\right)}{1357.58738525329 v^{4} - 2703.79633388683 v^{2} + 1.69987715458618} - 3.08486552743307 v - \\frac{4.32384018080423 \\cdot \\left(7.4 - 3.19038797723876 v\\right) \\left(104012.732858565 v^{6} - 241782.256805446 v^{4} + 9650.6869230735 v^{2} - 43.3594908461324\\right)}{449734.43364912 v^{6} - 911613.539217444 v^{4} + 32257.8663608633 v^{2} - 19.9264876996215} - \\frac{4.32384018080423 \\left(- 3.48482071330788 v^{3} + 26.5613984620113 v + 95.8\\right) \\left(- 728.419058105738 v^{4} + 51.55088997746 v^{2} - 0.912076032297624\\right)}{104012.732858565 v^{6} - 210834.235563232 v^{4} + 7460.46685630813 v^{2} - 4.60851624166996}\\end{matrix}\\right]$"
      ],
      "text/plain": [
       "Matrix([\n",
       "[                                                                                                                                                                                                                                                                                                                                                                                                                                                                                                                                                                                                                                                                                                                                                                                                                                   0,                                                                                                                                                                                                                                                                                                                                                                                                                                                                                                                                                                                                                                                                                                                                                                                                                                                                                     0,                                                                                                                                                                                                                                                                                                                                                                                                                                                                                                                                                                                                                                                                                                                                          1,                                                                                                                                                                                                                                                                                                                                                                                                                                                                                                                                                                                                                                                                                                                                                                   0],\n",
       "[                                                                                                                                                                                                                                                                                                                                                                                                                                                                                                                                                                                                                                                                                                                                                                                                                                   0,                                                                                                                                                                                                                                                                                                                                                                                                                                                                                                                                                                                                                                                                                                                                                                                                                                                                                     0,                                                                                                                                                                                                                                                                                                                                                                                                                                                                                                                                                                                                                                                                                                                                          0,                                                                                                                                                                                                                                                                                                                                                                                                                                                                                                                                                                                                                                                                                                                                                                   1],\n",
       "[0.124092025411574*(7.4 - 3.19038797723876*v)*(1.2535561339698e-9*v**5 + 4684854.31212722*v**3 - 165775.734803635*v)/(449734.43364912*v**6 - 911613.539217444*v**4 + 32257.8663608633*v**2 - 19.9264876996215) + 0.124092025411574*(11.7223104304101 - 331.274758836398*v**2)*(8.26676015041851*v**2 - 266.015050749107)/(1357.58738525329*v**4 - 2703.79633388683*v**2 + 1.69987715458618) + 0.124092025411574*(70.1985278400138 - 3.5124784014838*v**2)*(498.040665151717 - 14074.7254748381*v**2)/(5869.99088531113*v**4 - 11690.7832291711*v**2 + 7.34999714343089) + 0.124092025411574*(-3.48482071330788*v**3 + 26.5613984620113*v + 95.8)*(-4.45272875993e-12*v**5 + 110266.732037376*v**3 - 3901.83926970215*v)/(104012.732858565*v**6 - 210834.235563232*v**4 + 7460.46685630813*v**2 - 4.60851624166996) + 9.48977444677356, -0.89119773805909*v**2 + 0.124092025411574*(7.4 - 3.19038797723876*v)*(-451880.864551395*v**5 + 166432.974746013*v**3 - 5323.49371658317*v)/(449734.43364912*v**6 - 911613.539217444*v**4 + 32257.8663608633*v**2 - 19.9264876996215) + 0.124092025411574*(70.1985278400138 - 3.5124784014838*v**2)*(1357.58738525329*v**4 - 500.015213588823*v**2 + 15.9933922457265)/(5869.99088531113*v**4 - 11690.7832291711*v**2 + 7.34999714343089) + 0.124092025411574*(8.26676015041851*v**2 - 266.015050749107)*(51.8700745147802*v**2 + 0.336424378095828)/(1357.58738525329*v**4 - 2703.79633388683*v**2 + 1.69987715458618) + 0.124092025411574*(-3.48482071330788*v**3 + 26.5613984620113*v + 95.8)*(-10635.8539422075*v**5 + 3917.30863028033*v**3 - 125.298294469822*v)/(104012.732858565*v**6 - 210834.235563232*v**4 + 7460.46685630813*v**2 - 4.60851624166996) - 0.571523173729231, 772.216890025199*v*(70.1985278400138 - 3.5124784014838*v**2)/(5869.99088531113*v**4 - 11690.7832291711*v**2 + 7.34999714343089) + 18.175556210302*v*(8.26676015041851*v**2 - 266.015050749107)/(1357.58738525329*v**4 - 2703.79633388683*v**2 + 1.69987715458618) - 0.105522449805688*v + 0.124092025411574*(7.4 - 3.19038797723876*v)*(-1078347.2775116*v**4 + 76315.633483089*v**2 - 1350.23197892353)/(449734.43364912*v**6 - 911613.539217444*v**4 + 32257.8663608633*v**2 - 19.9264876996215) + 0.124092025411574*(-3.48482071330788*v**3 + 26.5613984620113*v + 95.8)*(-25380.9024508629*v**4 + 1796.22992453769*v**2 - 31.7802129775628)/(104012.732858565*v**6 - 210834.235563232*v**4 + 7460.46685630813*v**2 - 4.60851624166996), 22.1622340172689*v*(70.1985278400138 - 3.5124784014838*v**2)/(5869.99088531113*v**4 - 11690.7832291711*v**2 + 7.34999714343089) + 0.521629266764154*v*(8.26676015041851*v**2 - 266.015050749107)/(1357.58738525329*v**4 - 2703.79633388683*v**2 + 1.69987715458618) - 0.330515398992312*v + 0.124092025411574*(7.4 - 3.19038797723876*v)*(104012.732858565*v**6 - 241782.256805446*v**4 + 9650.6869230735*v**2 - 43.3594908461324)/(449734.43364912*v**6 - 911613.539217444*v**4 + 32257.8663608633*v**2 - 19.9264876996215) + 0.124092025411574*(-3.48482071330788*v**3 + 26.5613984620113*v + 95.8)*(-728.419058105738*v**4 + 51.55088997746*v**2 - 0.912076032297624)/(104012.732858565*v**6 - 210834.235563232*v**4 + 7460.46685630813*v**2 - 4.60851624166996)],\n",
       "[   -4.32384018080423*(7.4 - 3.19038797723876*v)*(1.2535561339698e-9*v**5 + 4684854.31212722*v**3 - 165775.734803635*v)/(449734.43364912*v**6 - 911613.539217444*v**4 + 32257.8663608633*v**2 - 19.9264876996215) - 4.32384018080423*(11.7223104304101 - 331.274758836398*v**2)*(8.26676015041851*v**2 - 266.015050749107)/(1357.58738525329*v**4 - 2703.79633388683*v**2 + 1.69987715458618) - 4.32384018080423*(70.1985278400138 - 3.5124784014838*v**2)*(498.040665151717 - 14074.7254748381*v**2)/(5869.99088531113*v**4 - 11690.7832291711*v**2 + 7.34999714343089) - 4.32384018080423*(-3.48482071330788*v**3 + 26.5613984620113*v + 95.8)*(-4.45272875993e-12*v**5 + 110266.732037376*v**3 - 3901.83926970215*v)/(104012.732858565*v**6 - 210834.235563232*v**4 + 7460.46685630813*v**2 - 4.60851624166996) + 11.7194768719633,      -1.97171508499969*v**2 - 4.32384018080423*(7.4 - 3.19038797723876*v)*(-451880.864551395*v**5 + 166432.974746013*v**3 - 5323.49371658317*v)/(449734.43364912*v**6 - 911613.539217444*v**4 + 32257.8663608633*v**2 - 19.9264876996215) - 4.32384018080423*(70.1985278400138 - 3.5124784014838*v**2)*(1357.58738525329*v**4 - 500.015213588823*v**2 + 15.9933922457265)/(5869.99088531113*v**4 - 11690.7832291711*v**2 + 7.34999714343089) - 4.32384018080423*(8.26676015041851*v**2 - 266.015050749107)*(51.8700745147802*v**2 + 0.336424378095828)/(1357.58738525329*v**4 - 2703.79633388683*v**2 + 1.69987715458618) - 4.32384018080423*(-3.48482071330788*v**3 + 26.5613984620113*v + 95.8)*(-10635.8539422075*v**5 + 3917.30863028033*v**3 - 125.298294469822*v)/(104012.732858565*v**6 - 210834.235563232*v**4 + 7460.46685630813*v**2 - 4.60851624166996) + 30.9087533932402,  -26906.9862169822*v*(70.1985278400138 - 3.5124784014838*v**2)/(5869.99088531113*v**4 - 11690.7832291711*v**2 + 7.34999714343089) - 633.305806637594*v*(8.26676015041851*v**2 - 266.015050749107)/(1357.58738525329*v**4 - 2703.79633388683*v**2 + 1.69987715458618) + 3.67680523332143*v - 4.32384018080423*(7.4 - 3.19038797723876*v)*(-1078347.2775116*v**4 + 76315.633483089*v**2 - 1350.23197892353)/(449734.43364912*v**6 - 911613.539217444*v**4 + 32257.8663608633*v**2 - 19.9264876996215) - 4.32384018080423*(-3.48482071330788*v**3 + 26.5613984620113*v + 95.8)*(-25380.9024508629*v**4 + 1796.22992453769*v**2 - 31.7802129775628)/(104012.732858565*v**6 - 210834.235563232*v**4 + 7460.46685630813*v**2 - 4.60851624166996),     -772.216890025199*v*(70.1985278400138 - 3.5124784014838*v**2)/(5869.99088531113*v**4 - 11690.7832291711*v**2 + 7.34999714343089) - 18.175556210302*v*(8.26676015041851*v**2 - 266.015050749107)/(1357.58738525329*v**4 - 2703.79633388683*v**2 + 1.69987715458618) - 3.08486552743307*v - 4.32384018080423*(7.4 - 3.19038797723876*v)*(104012.732858565*v**6 - 241782.256805446*v**4 + 9650.6869230735*v**2 - 43.3594908461324)/(449734.43364912*v**6 - 911613.539217444*v**4 + 32257.8663608633*v**2 - 19.9264876996215) - 4.32384018080423*(-3.48482071330788*v**3 + 26.5613984620113*v + 95.8)*(-728.419058105738*v**4 + 51.55088997746*v**2 - 0.912076032297624)/(104012.732858565*v**6 - 210834.235563232*v**4 + 7460.46685630813*v**2 - 4.60851624166996)]])"
      ]
     },
     "execution_count": 34,
     "metadata": {},
     "output_type": "execute_result"
    }
   ],
   "source": [
    "# Matrix de estados em MF\n",
    "A_c = A - B*k.T\n",
    "A_cn = sp.lambdify((v), A_c)\n",
    "A_c"
   ]
  },
  {
   "cell_type": "code",
   "execution_count": 35,
   "metadata": {},
   "outputs": [
    {
     "data": {
      "text/plain": [
       "EigResult(eigenvalues=array([-1. +4.j, -1. -4.j, -0.4+0.j, -5. +0.j]), eigenvectors=array([[ 0.053896  +0.21558398j,  0.053896  -0.21558398j,\n",
       "        -0.9208504 +0.j        ,  0.18979617+0.j        ],\n",
       "       [ 0.01065594+0.07785098j,  0.01065594-0.07785098j,\n",
       "        -0.11875815+0.j        , -0.04938575+0.j        ],\n",
       "       [-0.91623193+0.j        , -0.91623193-0.j        ,\n",
       "         0.36834016+0.j        , -0.94898085+0.j        ],\n",
       "       [-0.32205985-0.0352272j , -0.32205985+0.0352272j ,\n",
       "         0.04750326+0.j        ,  0.24692874+0.j        ]]))"
      ]
     },
     "execution_count": 35,
     "metadata": {},
     "output_type": "execute_result"
    }
   ],
   "source": [
    "np.linalg.eig(A_cn(9))"
   ]
  },
  {
   "cell_type": "markdown",
   "metadata": {},
   "source": [
    "### Simulação do sistema controlado"
   ]
  },
  {
   "cell_type": "code",
   "execution_count": 36,
   "metadata": {},
   "outputs": [],
   "source": [
    "def bike_PP_sim(v):\n",
    "    bike_PP_MF = ct.ss(A_cn(v), E,\n",
    "                         -kn(v).T, [[0]])\n",
    "    ts = np.linspace(0, 50, 1001)\n",
    "    w = np.linspace(0.1, 0.1, 1001)\n",
    "    x0 = [0.2, 0.0, 0.0, 0.0]\n",
    "    t, y, x = ct.forced_response(bike_PP_MF, U=0, T=ts, X0=x0, return_x=True)\n",
    "    return (t, y, x)\n",
    "    "
   ]
  },
  {
   "cell_type": "code",
   "execution_count": 37,
   "metadata": {},
   "outputs": [
    {
     "data": {
      "application/vnd.jupyter.widget-view+json": {
       "model_id": "3cedcf2708a947138da62bdd24758228",
       "version_major": 2,
       "version_minor": 0
      },
      "text/plain": [
       "interactive(children=(FloatSlider(value=5.0, description='v:', max=10.0, step=0.01), Output(layout=Layout(heig…"
      ]
     },
     "execution_count": 37,
     "metadata": {},
     "output_type": "execute_result"
    }
   ],
   "source": [
    "def update_plot_sim(v):\n",
    "    t, u, x = bike_PP_sim(v)\n",
    "    fig, (state, control_input) = plt.subplots(\n",
    "        2, 1, figsize=(5, 7), sharex=True)\n",
    "    \n",
    "    state.plot(t, 180/np.pi * x[0, :],\n",
    "               color=cp['red'], label=r'$\\phi \\ (\\degree)$ ')\n",
    "    state.plot(t, 180/np.pi * x[1, :],\n",
    "               color=cp['blue'], label=r'$\\delta \\ (\\degree)$')\n",
    "    # state.plot(t, x[:, 2], color='black', label=r'$x_3$')\n",
    "    # state.set_ylabel(r'(rad)')\n",
    "    state.set_xlabel(r'$t$ (s)')\n",
    "    state.legend()\n",
    "\n",
    "    control_input.plot(t, u, color=cp['orange'], label=r'$\\tau_\\delta$ (N m)')\n",
    "    # control_input.set_ylabel(r'(N m)')\n",
    "    control_input.set_xlabel(r'$t$ (s)')\n",
    "    control_input.legend()\n",
    "\n",
    "\n",
    "# Create sliders\n",
    "v_slider = widgets.FloatSlider(\n",
    "    value=5.0, min=0.0, max=10.0, step=0.01, description=r'v:')\n",
    "\n",
    "# Create the interactive plot\n",
    "interactive_plot_sim = interactive(\n",
    "    update_plot_sim, v=v_slider)\n",
    "output_sim = interactive_plot_sim.children[-1]\n",
    "output_sim.layout.height = '600px'\n",
    "interactive_plot_sim"
   ]
  },
  {
   "cell_type": "markdown",
   "metadata": {},
   "source": [
    "### Resposta em frequência do sistema em malha fechada (via diagrama de Bode)"
   ]
  },
  {
   "cell_type": "code",
   "execution_count": 38,
   "metadata": {},
   "outputs": [
    {
     "data": {
      "application/vnd.jupyter.widget-view+json": {
       "model_id": "2b138a82cab5424c959531d52bd7b409",
       "version_major": 2,
       "version_minor": 0
      },
      "text/plain": [
       "interactive(children=(FloatSlider(value=5.0, description='v:', max=10.0, step=0.01), Output(layout=Layout(heig…"
      ]
     },
     "execution_count": 38,
     "metadata": {},
     "output_type": "execute_result"
    }
   ],
   "source": [
    "def update_bode(v):\n",
    "    bike_PP_MF_U = ct.ss(A_cn(v), E,\n",
    "                          -kn(v).T, [[0]])\n",
    "    bike_PP_MF_φ = ct.ss(A_cn(v), E,\n",
    "                          np.array([[1, 0, 0, 0]]), [[0]])\n",
    "    bike_PP_MF_δ = ct.ss(A_cn(v), E,\n",
    "                          np.array([[0, 1, 0, 0]]), [[0]])\n",
    "    plt.figure()\n",
    "    mag_U, phase_U, omega_U = ct.bode_plot(\n",
    "        bike_PP_MF_U, omega=np.linspace(0.1, 20, 201), color=cp['orange'], dB=True)\n",
    "    mag_φ, phase_φ, omega_φ = ct.bode_plot(\n",
    "        bike_PP_MF_φ, omega=np.linspace(0.1, 20, 201), color=cp['red'], dB=True)\n",
    "    mag_δ, phase_δ, omega_δ = ct.bode_plot(\n",
    "        bike_PP_MF_δ, omega=np.linspace(0.1, 20, 201), color=cp['blue'], dB=True)\n",
    "    \n",
    "    mag_ax = plt.subplot(2, 1, 1)  # magnitude plot\n",
    "    phase_ax = plt.subplot(2, 1, 2)  # phase plot\n",
    "\n",
    "    mag_ax.set_ylim([-60, 40])  # y-limits (magnitude plot)\n",
    "    phase_ax.set_ylim([-720, 0])  # y-limits (phase plot)\n",
    "    plt.legend([r'$τ_δ/τ_φ$', r'$φ/τ_φ$', r'$δ/τ_φ$'])\n",
    "\n",
    "# Create the interactive plot\n",
    "interactive_bode = interactive(\n",
    "    update_bode, v=v_slider)\n",
    "output = interactive_bode.children[-1]\n",
    "output.layout.height = '450px'\n",
    "interactive_bode"
   ]
  },
  {
   "cell_type": "markdown",
   "metadata": {},
   "source": [
    "## Síntese de um Regulador Linear Quadrático (LQR)"
   ]
  },
  {
   "cell_type": "code",
   "execution_count": 39,
   "metadata": {},
   "outputs": [],
   "source": [
    "Q = np.diag([1, 0.2, 10, 2])\n",
    "\n",
    "def bike_LQR(v, R):\n",
    "    k_LQR, _, poles = ct.lqr(An(v), Bn, Q, R) \n",
    "    A_c_LQR = An(v) - Bn @ k_LQR\n",
    "    return (A_c_LQR, k_LQR, poles)"
   ]
  },
  {
   "cell_type": "markdown",
   "metadata": {},
   "source": [
    "### Simulação do sistema controlado"
   ]
  },
  {
   "cell_type": "code",
   "execution_count": 40,
   "metadata": {},
   "outputs": [],
   "source": [
    "def bike_LQR_sim(v, R):\n",
    "    A_c_LQR, k_LQR, _ = bike_LQR(v, R)\n",
    "    bike_LQR_MF = ct.ss(A_c_LQR, En,\n",
    "                        -k_LQR, [[0]])\n",
    "    ts = np.linspace(0, 50, 1001)\n",
    "    w = np.linspace(0.1, 0.1, 1001)\n",
    "    x0 = [0.2, 0.0, 0.0, 0.0]\n",
    "    t, y, x = ct.forced_response(bike_LQR_MF, T=ts, X0=x0, return_x=True)\n",
    "    return (t, y, x)"
   ]
  },
  {
   "cell_type": "code",
   "execution_count": 41,
   "metadata": {},
   "outputs": [
    {
     "data": {
      "application/vnd.jupyter.widget-view+json": {
       "model_id": "9f77b8c70cf2483fac623f2f47a68354",
       "version_major": 2,
       "version_minor": 0
      },
      "text/plain": [
       "interactive(children=(FloatSlider(value=5.0, description='v:', max=10.0, step=0.01), FloatSlider(value=0.0, de…"
      ]
     },
     "execution_count": 41,
     "metadata": {},
     "output_type": "execute_result"
    }
   ],
   "source": [
    "def update_plot_sim(v, lR):\n",
    "    t, u, x = bike_LQR_sim(v, 10**lR)\n",
    "    fig, (state, control_input) = plt.subplots(\n",
    "        2, 1, figsize=(5, 7), sharex=True)\n",
    "\n",
    "    state.plot(t, 180/np.pi * x[0, :],\n",
    "               color=cp['red'], label=r'$\\phi \\ (\\degree)$ ')\n",
    "    state.plot(t, 180/np.pi * x[1, :],\n",
    "               color=cp['blue'], label=r'$\\delta \\ (\\degree)$')\n",
    "    # state.plot(t, x[:, 2], color='black', label=r'$x_3$')\n",
    "    # state.set_ylabel(r'(rad)')\n",
    "    state.set_xlabel(r'$t$ (s)')\n",
    "    state.legend()\n",
    "\n",
    "    control_input.plot(t, u, color=cp['orange'],\n",
    "                       label=r'$\\tau_\\delta$ (N m)')\n",
    "    # control_input.set_ylabel(r'(N m)')\n",
    "    control_input.set_xlabel(r'$t$ (s)')\n",
    "    control_input.legend()\n",
    "\n",
    "\n",
    "# Create sliders\n",
    "v_slider = widgets.FloatSlider(\n",
    "    value=5.0, min=0.0, max=10.0, step=0.01, description=r'v:')\n",
    "lR_slider = widgets.FloatSlider(\n",
    "    value=0, min=-2, max=2, step=0.5, description=r'log R:')\n",
    "\n",
    "# Create the interactive plot\n",
    "interactive_plot_sim = interactive(\n",
    "    update_plot_sim, v=v_slider, lR = lR_slider)\n",
    "output_sim = interactive_plot_sim.children[-1]\n",
    "output_sim.layout.height = '600px'\n",
    "interactive_plot_sim"
   ]
  },
  {
   "cell_type": "markdown",
   "metadata": {},
   "source": [
    "### Resposta em frequência do sistema em malha fechada"
   ]
  },
  {
   "cell_type": "code",
   "execution_count": 42,
   "metadata": {},
   "outputs": [
    {
     "data": {
      "application/vnd.jupyter.widget-view+json": {
       "model_id": "7bacd5f4f30b4d209f3580fcbebc7e67",
       "version_major": 2,
       "version_minor": 0
      },
      "text/plain": [
       "interactive(children=(FloatSlider(value=5.0, description='v:', max=10.0, step=0.01), FloatSlider(value=0.0, de…"
      ]
     },
     "execution_count": 42,
     "metadata": {},
     "output_type": "execute_result"
    }
   ],
   "source": [
    "def update_bode(v, lR):\n",
    "    A_c_LQR, k_LQR, _ = bike_LQR(v, 10**lR)\n",
    "    bike_LQR_MF_U = ct.ss(A_c_LQR, E,\n",
    "                          -k_LQR, [[0]])\n",
    "    bike_LQR_MF_φ = ct.ss(A_c_LQR, E,\n",
    "                          np.array([[1, 0, 0, 0]]), [[0]])\n",
    "    bike_LQR_MF_δ = ct.ss(A_c_LQR, E,\n",
    "                          np.array([[0, 1, 0, 0]]), [[0]])\n",
    "    plt.figure()\n",
    "    mag_U, phase_U, omega_U = ct.bode_plot(\n",
    "        bike_LQR_MF_U, omega=np.linspace(0.1, 20, 201), color=cp['orange'], dB=True)\n",
    "    mag_φ, phase_φ, omega_φ = ct.bode_plot(\n",
    "        bike_LQR_MF_φ, omega=np.linspace(0.1, 20, 201), color=cp['red'], dB=True)\n",
    "    mag_δ, phase_δ, omega_δ = ct.bode_plot(\n",
    "        bike_LQR_MF_δ, omega=np.linspace(0.1, 20, 201), color=cp['blue'], dB=True)\n",
    "\n",
    "    mag_ax = plt.subplot(2, 1, 1)  # magnitude plot\n",
    "    phase_ax = plt.subplot(2, 1, 2)  # phase plot\n",
    "\n",
    "    mag_ax.set_ylim([-80, 40])  # y-limits (magnitude plot)\n",
    "    phase_ax.set_ylim([-450, 0])  # y-limits (phase plot)\n",
    "    plt.legend([r'$τ_δ/τ_φ$', r'$φ/τ_φ$', r'$δ/τ_φ$'])\n",
    "\n",
    "# Create sliders\n",
    "v_slider = widgets.FloatSlider(\n",
    "    value=5.0, min=0.0, max=10.0, step=0.01, description=r'v:')\n",
    "lR_slider = widgets.FloatSlider(\n",
    "    value=0, min=-2, max=2, step=0.5, description=r'log R:')\n",
    "\n",
    "# Create the interactive plot\n",
    "interactive_bode = interactive(\n",
    "    update_bode, v=v_slider, lR=lR_slider)\n",
    "output = interactive_bode.children[-1]\n",
    "output.layout.height = '450px'\n",
    "interactive_bode"
   ]
  },
  {
   "cell_type": "markdown",
   "metadata": {},
   "source": [
    "### Polos e zeros "
   ]
  },
  {
   "cell_type": "code",
   "execution_count": 43,
   "metadata": {},
   "outputs": [
    {
     "data": {
      "application/vnd.jupyter.widget-view+json": {
       "model_id": "252c16affda6476898943aa969ef6ae5",
       "version_major": 2,
       "version_minor": 0
      },
      "text/plain": [
       "interactive(children=(FloatSlider(value=5.0, description='v:', max=10.0, step=0.01), FloatSlider(value=0.0, de…"
      ]
     },
     "execution_count": 43,
     "metadata": {},
     "output_type": "execute_result"
    }
   ],
   "source": [
    "def update_pzmap(v, lR):\n",
    "    A_c_LQR, _, _ = bike_LQR(v, 10**lR)\n",
    "    bike_LQR_MA_φ = ct.ss(An(v), E,\n",
    "                          np.array([[1, 0, 0, 0]]), [[0]])\n",
    "    bike_LQR_MF_φ = ct.ss(A_c_LQR, E,\n",
    "                          np.array([[1, 0, 0, 0]]), [[0]])\n",
    "\n",
    "    plt.figure()\n",
    "    poles_MA, zeros_MA = ct.pzmap(bike_LQR_MA_φ, plot=True)\n",
    "    plt.legend([r'MA'])\n",
    "\n",
    "    plt.figure()\n",
    "    poles_MF, zeros_MF = ct.pzmap(bike_LQR_MF_φ, plot=True)\n",
    "    plt.legend([r'MF'])\n",
    "\n",
    "\n",
    "# Create sliders\n",
    "v_slider = widgets.FloatSlider(\n",
    "    value=5.0, min=0.0, max=10.0, step=0.01, description=r'v:')\n",
    "lR_slider = widgets.FloatSlider(\n",
    "    value=0, min=-2, max=2, step=0.5, description=r'log R:')\n",
    "\n",
    "# Create the interactive plot\n",
    "interactive_pzmap = interactive(\n",
    "    update_pzmap, v=v_slider, lR=lR_slider)\n",
    "output = interactive_pzmap.children[-1]\n",
    "output.layout.height = '920px'\n",
    "interactive_pzmap"
   ]
  },
  {
   "cell_type": "markdown",
   "metadata": {},
   "source": [
    "### Seguidor LQ"
   ]
  },
  {
   "cell_type": "code",
   "execution_count": 44,
   "metadata": {},
   "outputs": [],
   "source": [
    "Q = np.diag([1, 0.2, 10, 2])\n",
    "R = 1.0\n",
    "\n",
    "ts = np.linspace(0, 120, 1201)\n",
    "# refs = np.array([-np.heaviside(100-t, 0) for t in ts])\n",
    "refs = np.array([np.sign(np.mod(t, 50)-25) * np.heaviside(100-t, 0) for t in ts])\n",
    "r_φ = - 8*np.pi/180 * refs\n",
    "r_δ = - 16*np.pi/180 * refs\n",
    "\n",
    "K_lq, P_lq, poles = ct.lqr(An(5.0), Bn, Q, R)\n",
    "A_c_lq = np.array(An(5.0) - Bn @ K_lq)\n",
    "\n",
    "η_ss = ct.ss(-A_c_lq, -Q,\n",
    "            np.eye(4), np.zeros((4,4)))\n",
    "\n",
    "x_ref = np.block([[r_φ[::-1]], [r_δ[::-1]], [0*ts], [0*ts]])\n",
    "η0 = P_lq @ np.array([[r_φ[-1]], [r_δ[-1]], [0], [0]])\n",
    "\n",
    "ts_i, η = ct.forced_response(η_ss, U=x_ref, T=ts[::-1], X0=η0)\n",
    "\n",
    "sys_c_ss = ct.ss(A_c_lq, (Bn @ Bn.T)/R, \n",
    "                 -K_lq, Bn.T/R)\n",
    "\n",
    "ts_d, u_lq, x_lq = ct.forced_response(sys_c_ss, U=η[:, ::-1], T=ts,\n",
    "                                      return_x=True)"
   ]
  },
  {
   "cell_type": "code",
   "execution_count": 45,
   "metadata": {},
   "outputs": [
    {
     "data": {
      "text/plain": [
       "<matplotlib.legend.Legend at 0x1d412e59510>"
      ]
     },
     "execution_count": 45,
     "metadata": {},
     "output_type": "execute_result"
    },
    {
     "data": {
      "image/png": "[encoded data removed]",
      "text/plain": [
       "<Figure size 500x700 with 3 Axes>"
      ]
     },
     "metadata": {},
     "output_type": "display_data"
    }
   ],
   "source": [
    "fig, (statephi, statedelta, control_input) = plt.subplots(\n",
    "        3, 1, figsize=(5, 7), sharex=True)\n",
    "\n",
    "statephi.plot(ts, 180/np.pi * r_φ,\n",
    "            color=cp['lblue'], label=r'$\\phi_r \\ (\\degree)$ ')\n",
    "statephi.plot(ts, 180/np.pi * x_lq[0, :],\n",
    "            color=cp['blue'], label=r'$\\phi \\ (\\degree)$')\n",
    "statephi.set_xlabel(r'$t$ (s)')\n",
    "statephi.legend()\n",
    "\n",
    "statedelta.plot(ts, 180/np.pi * r_δ,\n",
    "              color=cp['lred'], label=r'$\\delta_r \\ (\\degree)$ ')\n",
    "statedelta.plot(ts, 180/np.pi * x_lq[1, :],\n",
    "              color=cp['red'], label=r'$\\delta \\ (\\degree)$')\n",
    "statedelta.set_xlabel(r'$t$ (s)')\n",
    "statedelta.legend()\n",
    "\n",
    "control_input.plot(ts, u_lq[0, :], color=cp['orange'],\n",
    "                    label=r'$\\tau_\\delta$ (N m)')\n",
    "# control_input.set_ylabel(r'(N m)')\n",
    "control_input.set_xlabel(r'$t$ (s)')\n",
    "control_input.legend()"
   ]
  },
  {
   "cell_type": "code",
   "execution_count": null,
   "metadata": {},
   "outputs": [],
   "source": []
  }
 ],
 "metadata": {
  "kernelspec": {
   "display_name": "P39",
   "language": "python",
   "name": "python3"
  },
  "language_info": {
   "codemirror_mode": {
    "name": "ipython",
    "version": 3
   },
   "file_extension": ".py",
   "mimetype": "text/x-python",
   "name": "python",
   "nbconvert_exporter": "python",
   "pygments_lexer": "ipython3",
   "version": "3.11.2"
  }
 },
 "nbformat": 4,
 "nbformat_minor": 2
}
