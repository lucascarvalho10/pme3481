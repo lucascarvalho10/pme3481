{
 "cells": [
  {
   "cell_type": "markdown",
   "metadata": {},
   "source": [
    "# Síntese pelo LQR"
   ]
  },
  {
   "cell_type": "code",
   "execution_count": 10,
   "metadata": {},
   "outputs": [],
   "source": [
    "import numpy as np\n",
    "import control as ctrl\n",
    "import scipy.linalg as la"
   ]
  },
  {
   "cell_type": "markdown",
   "metadata": {},
   "source": [
    "### Definição da Síntese pelo LQR"
   ]
  },
  {
   "cell_type": "code",
   "execution_count": 11,
   "metadata": {},
   "outputs": [],
   "source": [
    "def lqr(A, B, Q, R):\n",
    "    \"\"\"    \n",
    "    Parameters:\n",
    "        A (numpy.ndarray): State matrix.\n",
    "        B (numpy.ndarray): Input matrix.\n",
    "        Q (numpy.ndarray): State cost matrix.\n",
    "        R (numpy.ndarray): Input cost matrix.\n",
    "    \n",
    "    Returns:\n",
    "        K (numpy.ndarray): Feedback gain matrix.\n",
    "    \"\"\"\n",
    "    P = la.solve_continuous_are(A, B, Q, R)\n",
    "\n",
    "    # Calculate the feedback gain matrix\n",
    "    K = np.linalg.inv(R) @ B.T @ P\n",
    "    return K"
   ]
  },
  {
   "cell_type": "markdown",
   "metadata": {},
   "source": [
    "Definição do modelo"
   ]
  },
  {
   "cell_type": "code",
   "execution_count": 12,
   "metadata": {},
   "outputs": [
    {
     "name": "stdout",
     "output_type": "stream",
     "text": [
      "LQR feedback gain matrix K:\n",
      "[[1.         1.54355958]]\n"
     ]
    }
   ],
   "source": [
    "# Define A, B matrices\n",
    "A = np.array([[0, 1],\n",
    "              [0, -0.2]])\n",
    "B = np.array([[0],\n",
    "              [1]])\n",
    "\n",
    "# Define Q, R matrices (cost matrices)\n",
    "Q = np.eye(2)  # State cost matrix\n",
    "R = np.array([[1]])  # Input cost matrix\n",
    "\n",
    "# Compute LQR controller\n",
    "K = lqr(A, B, Q, R)\n",
    "\n",
    "print(\"LQR feedback gain matrix K:\")\n",
    "print(K)"
   ]
  }
 ],
 "metadata": {
  "kernelspec": {
   "display_name": "Python 3",
   "language": "python",
   "name": "python3"
  },
  "language_info": {
   "codemirror_mode": {
    "name": "ipython",
    "version": 3
   },
   "file_extension": ".py",
   "mimetype": "text/x-python",
   "name": "python",
   "nbconvert_exporter": "python",
   "pygments_lexer": "ipython3",
   "version": "3.11.2"
  }
 },
 "nbformat": 4,
 "nbformat_minor": 2
}
