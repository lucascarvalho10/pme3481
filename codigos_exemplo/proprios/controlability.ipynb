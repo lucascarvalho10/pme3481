{
 "cells": [
  {
   "cell_type": "markdown",
   "metadata": {},
   "source": [
    "# Controlabilidade "
   ]
  },
  {
   "cell_type": "markdown",
   "metadata": {},
   "source": [
    "Supondo um SLIT, o código permite avaliar se é ou não controlável a partir das matrizes A e B, avaliando o gramiano"
   ]
  },
  {
   "cell_type": "code",
   "execution_count": 1,
   "metadata": {},
   "outputs": [],
   "source": [
    "import numpy as np\n",
    "import control"
   ]
  },
  {
   "cell_type": "code",
   "execution_count": 2,
   "metadata": {},
   "outputs": [],
   "source": [
    "def is_controllable(A, B):\n",
    "    \"\"\"\n",
    "    Check if a system defined by its state matrix A and input matrix B is controllable.\n",
    "    \"\"\"\n",
    "    sys = control.StateSpace(A, B, np.eye(A.shape[0]), np.zeros((A.shape[0], B.shape[1])))\n",
    "    return control.ctrb(sys.A, sys.B).shape[0] == A.shape[0]"
   ]
  },
  {
   "cell_type": "code",
   "execution_count": 3,
   "metadata": {},
   "outputs": [
    {
     "name": "stdout",
     "output_type": "stream",
     "text": [
      "System is controllable.\n"
     ]
    }
   ],
   "source": [
    "A = np.array([[0, 0, 0, 0, 0, 1, 0, 0, 0, 0],\n",
    "              [0, 0, 0, 0, 0, 0, 1, 0, 0, 0],\n",
    "              [0, 0, 0, 0, 0, 0, 0, 1, 0, 0],\n",
    "              [0, 0, 0, 0, 0, 0, 0, 0, 1, 0],\n",
    "              [0, 0, 0, 0, 0, 0, 0, 0, 0, 1],\n",
    "              [0, 0, 0, 0, 0, -2.5*10**(-3), 0, 0, 0, 0],\n",
    "              [0, 0, 0, 0, 9.9, 0, 0, 0, 0, -10],\n",
    "              [0, 0, 0, -9.9, 0, 0, 0, 0, 10, 0],\n",
    "              [0, 0, 0, 5.1*10**(-3), 0, 0, 0, 0, 0, 0],\n",
    "              [0, 0, 0, 0, 5.1*10**(-3), 0, 0, 0, 0, 0]])\n",
    "\n",
    "B = np.array([[0, 0],\n",
    "              [0, 0],\n",
    "              [0, 0],\n",
    "              [0, 0],\n",
    "              [0, 0],\n",
    "              [0, 0],\n",
    "              [9.72, 0],\n",
    "              [0, -9.72],\n",
    "              [0, -16.095],\n",
    "              [-16.095, 0]])\n",
    "\n",
    "if is_controllable(A, B):\n",
    "    print(\"System is controllable.\")\n",
    "else:\n",
    "    print(\"System is not controllable.\")"
   ]
  }
 ],
 "metadata": {
  "kernelspec": {
   "display_name": "Python 3",
   "language": "python",
   "name": "python3"
  },
  "language_info": {
   "codemirror_mode": {
    "name": "ipython",
    "version": 3
   },
   "file_extension": ".py",
   "mimetype": "text/x-python",
   "name": "python",
   "nbconvert_exporter": "python",
   "pygments_lexer": "ipython3",
   "version": "3.11.2"
  }
 },
 "nbformat": 4,
 "nbformat_minor": 2
}
