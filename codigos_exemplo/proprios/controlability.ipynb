{
 "cells": [
  {
   "cell_type": "markdown",
   "metadata": {},
   "source": [
    "# Controlabilidade e Observabilidade"
   ]
  },
  {
   "cell_type": "markdown",
   "metadata": {},
   "source": [
    "Supondo um SLIT, o código permite avaliar se é ou não controlável a partir das matrizes A e B, avaliando o gramiano, tal qual utilizando as matrizes A e C, avaliando a observabilidade."
   ]
  },
  {
   "cell_type": "code",
   "execution_count": 10,
   "metadata": {},
   "outputs": [],
   "source": [
    "import numpy as np\n",
    "import control"
   ]
  },
  {
   "cell_type": "markdown",
   "metadata": {},
   "source": [
    "As duas funções que realizam a análise de controlabilidade e observabilidade do sistema"
   ]
  },
  {
   "cell_type": "code",
   "execution_count": 11,
   "metadata": {},
   "outputs": [],
   "source": [
    "def is_controllable(A, B):\n",
    "    \"\"\"\n",
    "    Check if a system defined by its state matrix A and input matrix B is controllable.\n",
    "    \"\"\"\n",
    "    sys = control.StateSpace(A, B, np.eye(A.shape[0]), np.zeros((A.shape[0], B.shape[1])))\n",
    "    return control.ctrb(sys.A, sys.B).shape[0] == A.shape[0]"
   ]
  },
  {
   "cell_type": "code",
   "execution_count": 12,
   "metadata": {},
   "outputs": [],
   "source": [
    "def is_observable(A, C):\n",
    "    \"\"\"\n",
    "    Check if a system defined by its state matrix A and output matrix C is observable.\n",
    "    \"\"\"\n",
    "    sys = control.StateSpace(A, np.zeros((A.shape[0], 1)), C, np.zeros((C.shape[0], 1)))\n",
    "    return control.obsv(sys.A, sys.C).shape[0] == A.shape[0]"
   ]
  },
  {
   "cell_type": "markdown",
   "metadata": {},
   "source": [
    "Abaixo, as matrizes do sistema definidas"
   ]
  },
  {
   "cell_type": "code",
   "execution_count": 13,
   "metadata": {},
   "outputs": [],
   "source": [
    "A = np.array([[0, 0, 0, 0, 0, 1, 0, 0, 0, 0],\n",
    "              [0, 0, 0, 0, 0, 0, 1, 0, 0, 0],\n",
    "              [0, 0, 0, 0, 0, 0, 0, 1, 0, 0],\n",
    "              [0, 0, 0, 0, 0, 0, 0, 0, 1, 0],\n",
    "              [0, 0, 0, 0, 0, 0, 0, 0, 0, 1],\n",
    "              [0, 0, 0, 0, 0, -2.5*10**(-3), 0, 0, 0, 0],\n",
    "              [0, 0, 0, 0, 9.9, 0, 0, 0, 0, -10],\n",
    "              [0, 0, 0, -9.9, 0, 0, 0, 0, 10, 0],\n",
    "              [0, 0, 0, 5.1*10**(-3), 0, 0, 0, 0, 0, 0],\n",
    "              [0, 0, 0, 0, 5.1*10**(-3), 0, 0, 0, 0, 0]])\n",
    "\n",
    "B = np.array([[0, 0],\n",
    "              [0, 0],\n",
    "              [0, 0],\n",
    "              [0, 0],\n",
    "              [0, 0],\n",
    "              [0, 0],\n",
    "              [9.72, 0],\n",
    "              [0, -9.72],\n",
    "              [0, -16.095],\n",
    "              [-16.095, 0]])\n",
    "\n",
    "C = np.array([[0, 0, 0, 0, 1, 0, 0, 0, 0, 0],\n",
    "              [0, 0, 0, 0, 0, 0, 0, 0, 0, 1]])"
   ]
  },
  {
   "cell_type": "code",
   "execution_count": 14,
   "metadata": {},
   "outputs": [
    {
     "name": "stdout",
     "output_type": "stream",
     "text": [
      "System is controllable.\n",
      "System is not observable.\n"
     ]
    }
   ],
   "source": [
    "if is_controllable(A, B):\n",
    "    print(\"System is controllable.\")\n",
    "else:\n",
    "    print(\"System is not controllable.\")\n",
    "\n",
    "if is_observable(A, C):\n",
    "    print(\"System is observable.\")\n",
    "else:\n",
    "    print(\"System is not observable.\")"
   ]
  }
 ],
 "metadata": {
  "kernelspec": {
   "display_name": "Python 3",
   "language": "python",
   "name": "python3"
  },
  "language_info": {
   "codemirror_mode": {
    "name": "ipython",
    "version": 3
   },
   "file_extension": ".py",
   "mimetype": "text/x-python",
   "name": "python",
   "nbconvert_exporter": "python",
   "pygments_lexer": "ipython3",
   "version": "3.11.2"
  }
 },
 "nbformat": 4,
 "nbformat_minor": 2
}
