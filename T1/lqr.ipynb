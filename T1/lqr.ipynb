{
 "cells": [
  {
   "cell_type": "markdown",
   "metadata": {},
   "source": [
    "# PME3481 - Controle e Aplicações\n",
    "\n",
    "## Síntese pelo LQR - Regulador Linear Quadrático"
   ]
  },
  {
   "cell_type": "markdown",
   "metadata": {},
   "source": [
    "Aqui, o objetivo é encontrar o LQR, bem como realizar o estudo da estabilidade segundo o critério de Lyapunov, e apresentar isso de forma concisa."
   ]
  },
  {
   "cell_type": "code",
   "execution_count": 1,
   "metadata": {},
   "outputs": [],
   "source": [
    "import numpy as np\n",
    "import scipy.linalg as la\n",
    "import matplotlib.pyplot as plt\n",
    "import control as ctrl\n",
    "import warnings\n",
    "from scipy.optimize import minimize"
   ]
  },
  {
   "cell_type": "code",
   "execution_count": 2,
   "metadata": {},
   "outputs": [],
   "source": [
    "warnings.simplefilter(\"ignore\")  # Ignore all warnings"
   ]
  },
  {
   "cell_type": "markdown",
   "metadata": {},
   "source": [
    "### Estabilidade segundo Lyapunov"
   ]
  },
  {
   "cell_type": "markdown",
   "metadata": {},
   "source": [
    "A função de Lyapunov \\(V(x)\\) é positiva definida e contínua, com $V(x_e) = 0$ no ponto de equilíbrio $x_e$. A estabilidade do ponto de equilíbrio é então analisada observando o sinal de sua derivada ao longo das trajetórias do sistema.\n",
    "\n",
    "Se a derivada da função de Lyapunov ao longo das trajetórias do sistema for negativa definida em uma vizinhança do ponto de equilíbrio, ou seja,\n",
    "\n",
    "$$\n",
    "\\dot{V}(x) = \\frac{{dV}}{{dt}} < 0, \\quad \\text{para} \\quad x \\neq x_e\n",
    "$$\n",
    "\n",
    "então o ponto de equilíbrio é considerado estável. Se $\\dot{V}(x) < 0$ em uma vizinhança do ponto de equilíbrio e $\\dot{V}(x) = 0$ apenas no ponto de equilíbrio, então o ponto de equilíbrio é assintoticamente estável."
   ]
  },
  {
   "cell_type": "code",
   "execution_count": 3,
   "metadata": {},
   "outputs": [],
   "source": [
    "def check_stability(A):\n",
    "    \"\"\"\n",
    "    Check system stability using Lyapunov's method.\n",
    "    \n",
    "    Parameters:\n",
    "        A (numpy.ndarray): State matrix.\n",
    "    \n",
    "    Returns:\n",
    "        stable (bool): True if the system is stable, False otherwise.\n",
    "    \"\"\"\n",
    "    # Solve the Lyapunov equation A.T @ P + P @ A = -I\n",
    "    P = la.solve_lyapunov(A.T, -np.eye(A.shape[0]))\n",
    "    \n",
    "    # Check if the solution is positive definite\n",
    "    stable = np.all(np.linalg.eigvals(P) > 0)\n",
    "    return stable"
   ]
  },
  {
   "cell_type": "markdown",
   "metadata": {},
   "source": [
    "### Definição das Funções e Organização"
   ]
  },
  {
   "cell_type": "markdown",
   "metadata": {},
   "source": [
    "Função que retorna a matriz de ganho K segundo as penalizações defindias em Q e R, que indicam quais variáveis de estados devem ser consideradas mais importantes."
   ]
  },
  {
   "cell_type": "code",
   "execution_count": 4,
   "metadata": {},
   "outputs": [],
   "source": [
    "def lqr(A, B, Q, R):\n",
    "    \"\"\"    \n",
    "    Parameters:\n",
    "        A (numpy.ndarray): State matrix.\n",
    "        B (numpy.ndarray): Input matrix.\n",
    "        Q (numpy.ndarray): State cost matrix.\n",
    "        R (numpy.ndarray): Input cost matrix.\n",
    "    \n",
    "    Returns:\n",
    "        K (numpy.ndarray): Feedback gain matrix.\n",
    "    \"\"\"\n",
    "    P = la.solve_continuous_are(A, B, Q, R)\n",
    "\n",
    "    # Calculate the feedback gain matrix\n",
    "    K = np.linalg.inv(R) @ B.T @ P\n",
    "    return K"
   ]
  },
  {
   "cell_type": "markdown",
   "metadata": {},
   "source": [
    "Definição do modelo dinâmico linear do foguete, que permite realizar os testes com as funções desenvolvidas acima."
   ]
  },
  {
   "cell_type": "code",
   "execution_count": 5,
   "metadata": {},
   "outputs": [],
   "source": [
    "Xcm = 1.052\n",
    "Xpe = 0.261\n",
    "L = 3.304\n",
    "Df = 0.127\n",
    "Tlin = 230.57\n",
    "Izz = 15.07\n",
    "M = 23.545\n",
    "g = 9.8055\n",
    "dar = 1.091\n",
    "Cd = 0.432\n",
    "Vxlin = -10.0\n",
    "Vvlin = 2.2"
   ]
  },
  {
   "cell_type": "code",
   "execution_count": 6,
   "metadata": {},
   "outputs": [
    {
     "data": {
      "text/latex": [
       "$$\n",
       "\\left(\\begin{array}{rllrllrllrll|rllrllrll}\n",
       "0\\phantom{.}&\\hspace{-1em}&\\hspace{-1em}\\phantom{\\cdot}&0\\phantom{.}&\\hspace{-1em}&\\hspace{-1em}\\phantom{\\cdot}&0\\phantom{.}&\\hspace{-1em}&\\hspace{-1em}\\phantom{\\cdot}&1\\phantom{.}&\\hspace{-1em}&\\hspace{-1em}\\phantom{\\cdot}&0\\phantom{.}&\\hspace{-1em}&\\hspace{-1em}\\phantom{\\cdot}&0\\phantom{.}&\\hspace{-1em}&\\hspace{-1em}\\phantom{\\cdot}&0\\phantom{.}&\\hspace{-1em}&\\hspace{-1em}\\phantom{\\cdot}\\\\\n",
       "0.&\\hspace{-1em}44&\\hspace{-1em}\\phantom{\\cdot}&-0.&\\hspace{-1em}00254&\\hspace{-1em}\\phantom{\\cdot}&0\\phantom{.}&\\hspace{-1em}&\\hspace{-1em}\\phantom{\\cdot}&0\\phantom{.}&\\hspace{-1em}&\\hspace{-1em}\\phantom{\\cdot}&0.&\\hspace{-1em}0425&\\hspace{-1em}\\phantom{\\cdot}&0\\phantom{.}&\\hspace{-1em}&\\hspace{-1em}\\phantom{\\cdot}&0\\phantom{.}&\\hspace{-1em}&\\hspace{-1em}\\phantom{\\cdot}\\\\\n",
       "-9.&\\hspace{-1em}79&\\hspace{-1em}\\phantom{\\cdot}&0\\phantom{.}&\\hspace{-1em}&\\hspace{-1em}\\phantom{\\cdot}&0\\phantom{.}&\\hspace{-1em}&\\hspace{-1em}\\phantom{\\cdot}&0\\phantom{.}&\\hspace{-1em}&\\hspace{-1em}\\phantom{\\cdot}&0\\phantom{.}&\\hspace{-1em}&\\hspace{-1em}\\phantom{\\cdot}&-9.&\\hspace{-1em}79&\\hspace{-1em}\\phantom{\\cdot}&-0.&\\hspace{-1em}435&\\hspace{-1em}\\phantom{\\cdot}\\\\\n",
       "0.&\\hspace{-1em}00492&\\hspace{-1em}\\phantom{\\cdot}&0\\phantom{.}&\\hspace{-1em}&\\hspace{-1em}\\phantom{\\cdot}&0\\phantom{.}&\\hspace{-1em}&\\hspace{-1em}\\phantom{\\cdot}&0\\phantom{.}&\\hspace{-1em}&\\hspace{-1em}\\phantom{\\cdot}&0\\phantom{.}&\\hspace{-1em}&\\hspace{-1em}\\phantom{\\cdot}&-16.&\\hspace{-1em}1&\\hspace{-1em}\\phantom{\\cdot}&-0.&\\hspace{-1em}114&\\hspace{-1em}\\phantom{\\cdot}\\\\\n",
       "\\hline\n",
       "0\\phantom{.}&\\hspace{-1em}&\\hspace{-1em}\\phantom{\\cdot}&1\\phantom{.}&\\hspace{-1em}&\\hspace{-1em}\\phantom{\\cdot}&0\\phantom{.}&\\hspace{-1em}&\\hspace{-1em}\\phantom{\\cdot}&0\\phantom{.}&\\hspace{-1em}&\\hspace{-1em}\\phantom{\\cdot}&0\\phantom{.}&\\hspace{-1em}&\\hspace{-1em}\\phantom{\\cdot}&0\\phantom{.}&\\hspace{-1em}&\\hspace{-1em}\\phantom{\\cdot}&0\\phantom{.}&\\hspace{-1em}&\\hspace{-1em}\\phantom{\\cdot}\\\\\n",
       "0\\phantom{.}&\\hspace{-1em}&\\hspace{-1em}\\phantom{\\cdot}&0\\phantom{.}&\\hspace{-1em}&\\hspace{-1em}\\phantom{\\cdot}&1\\phantom{.}&\\hspace{-1em}&\\hspace{-1em}\\phantom{\\cdot}&0\\phantom{.}&\\hspace{-1em}&\\hspace{-1em}\\phantom{\\cdot}&0\\phantom{.}&\\hspace{-1em}&\\hspace{-1em}\\phantom{\\cdot}&0\\phantom{.}&\\hspace{-1em}&\\hspace{-1em}\\phantom{\\cdot}&0\\phantom{.}&\\hspace{-1em}&\\hspace{-1em}\\phantom{\\cdot}\\\\\n",
       "\\end{array}\\right)\n",
       "$$"
      ],
      "text/plain": [
       "<LinearIOSystem:sys[3]:['u[0]', 'u[1]', 'u[2]']->['y[0]', 'y[1]']>"
      ]
     },
     "execution_count": 6,
     "metadata": {},
     "output_type": "execute_result"
    }
   ],
   "source": [
    "# X = [theta,xp,yp,thetap]\n",
    "# Xp = [thetap,xpp,ypp,thetapp]\n",
    "A = np.array([[0, 0, 0, 1],\n",
    "              [(1/M)*((1/2)*dar*Cd*Vxlin**2*L*Df + (1/2)*dar*Cd*L*Df*Vvlin**2), (1/M)*(Vxlin *dar*Cd*((Df/2)**2*np.pi)), 0, 0],\n",
    "              [(1/M)*(-M*g+(1/2)*Vxlin**2*dar*Cd*(np.pi*(Df/2)**2) - (1/2)*dar*Cd*(np.pi*(Df/2)**2)*Vvlin**2), 0, 0, 0],\n",
    "              [(1/Izz)*((1/2)*Vxlin**2*dar*Xpe*Cd*(np.pi*(Df/2)**2)- (1/2)*dar*Cd*Xpe*(np.pi*(Df/2)**2)*Vvlin**2), 0, 0, 0]])\n",
    "\n",
    "# u = [T,tau]\n",
    "\n",
    "B = np.array([[0, 0, 0],\n",
    "              [1/M, 0, 0],\n",
    "              [0, -Tlin/M, - (1/2)*dar*Cd*L*Df*2*Vvlin],\n",
    "              [0, -Tlin*Xcm/Izz, - (1/2)*dar*Cd*Xpe*L*Df*2*Vvlin]]) \n",
    "\n",
    "# B = np.array([[0, 0, 0],\n",
    "#               [1/M, 0, 0],\n",
    "#               [0, -Tlin/M, 0],\n",
    "#               [0, -Tlin*Xcm/Izz, 0]])\n",
    "\n",
    "E = np.array([[0],\n",
    "              [0],\n",
    "              [ (- (1/2)*dar*Cd*L*Df*2*Vvlin)/(M*Izz)],\n",
    "              [(- (1/2)*dar*Cd*Xpe*L*Df*2*Vvlin)/(M*Izz)]])\n",
    "\n",
    "C = np.array([[ 0, 1, 0, 0],\n",
    "              [ 0, 0, 1, 0],])\n",
    "\n",
    "D = np.array([[ 0, 0, 0],\n",
    "              [ 0, 0, 0]])\n",
    "\n",
    "cont = ctrl.StateSpace(A, B, C, D)\n",
    "\n",
    "sys = ctrl.ss(A, B, C, D)\n",
    "sys"
   ]
  },
  {
   "cell_type": "markdown",
   "metadata": {},
   "source": [
    "### Estudo da Estabilidade"
   ]
  },
  {
   "cell_type": "code",
   "execution_count": 7,
   "metadata": {},
   "outputs": [
    {
     "name": "stdout",
     "output_type": "stream",
     "text": [
      "The system is unstable according to Lyapunov's method.\n"
     ]
    }
   ],
   "source": [
    "stable = check_stability(A)\n",
    "if stable:\n",
    "    print(\"The system is stable according to Lyapunov's method.\")\n",
    "else:\n",
    "    print(\"The system is unstable according to Lyapunov's method.\")"
   ]
  },
  {
   "cell_type": "markdown",
   "metadata": {},
   "source": [
    "### LQR"
   ]
  },
  {
   "cell_type": "markdown",
   "metadata": {},
   "source": [
    "Definição das matrizes de custo - associadas à função de perda do LQR."
   ]
  },
  {
   "cell_type": "code",
   "execution_count": 26,
   "metadata": {},
   "outputs": [],
   "source": [
    "# Define Q, R matrices (cost matrices)\n",
    "# Define state cost matrix Q\n",
    "Q = np.diag([1, 10, 1,1])       \n",
    "  \n",
    "R = np.diag([0.1,150, 1])\n",
    "# Moderate penalty for control inputs"
   ]
  },
  {
   "cell_type": "code",
   "execution_count": 27,
   "metadata": {},
   "outputs": [
    {
     "name": "stdout",
     "output_type": "stream",
     "text": [
      "LQR Feedback Gain Matrix (K):\n",
      "[[ 0.664  9.838  0.277 -0.051]\n",
      " [-0.763 -0.03   0.078 -0.37 ]\n",
      " [ 0.792 -0.27  -0.27   0.09 ]]\n"
     ]
    }
   ],
   "source": [
    "# Compute LQR controller\n",
    "K = lqr(A, B, Q, R)\n",
    "\n",
    "np.set_printoptions(precision=3, suppress=True)\n",
    "print(\"LQR Feedback Gain Matrix (K):\")\n",
    "print(K)"
   ]
  },
  {
   "cell_type": "markdown",
   "metadata": {},
   "source": [
    "#### Sistema em Malha Fechada"
   ]
  },
  {
   "cell_type": "code",
   "execution_count": 28,
   "metadata": {},
   "outputs": [
    {
     "data": {
      "text/latex": [
       "$$\n",
       "\\left(\\begin{array}{rllrllrllrll|rllrllrll}\n",
       "0\\phantom{.}&\\hspace{-1em}&\\hspace{-1em}\\phantom{\\cdot}&0\\phantom{.}&\\hspace{-1em}&\\hspace{-1em}\\phantom{\\cdot}&0\\phantom{.}&\\hspace{-1em}&\\hspace{-1em}\\phantom{\\cdot}&1\\phantom{.}&\\hspace{-1em}&\\hspace{-1em}\\phantom{\\cdot}&0\\phantom{.}&\\hspace{-1em}&\\hspace{-1em}\\phantom{\\cdot}&0\\phantom{.}&\\hspace{-1em}&\\hspace{-1em}\\phantom{\\cdot}&0\\phantom{.}&\\hspace{-1em}&\\hspace{-1em}\\phantom{\\cdot}\\\\\n",
       "0.&\\hspace{-1em}412&\\hspace{-1em}\\phantom{\\cdot}&-0.&\\hspace{-1em}42&\\hspace{-1em}\\phantom{\\cdot}&-0.&\\hspace{-1em}0117&\\hspace{-1em}\\phantom{\\cdot}&0.&\\hspace{-1em}00219&\\hspace{-1em}\\phantom{\\cdot}&0.&\\hspace{-1em}0425&\\hspace{-1em}\\phantom{\\cdot}&0\\phantom{.}&\\hspace{-1em}&\\hspace{-1em}\\phantom{\\cdot}&0\\phantom{.}&\\hspace{-1em}&\\hspace{-1em}\\phantom{\\cdot}\\\\\n",
       "-16.&\\hspace{-1em}9&\\hspace{-1em}\\phantom{\\cdot}&-0.&\\hspace{-1em}406&\\hspace{-1em}\\phantom{\\cdot}&0.&\\hspace{-1em}649&\\hspace{-1em}\\phantom{\\cdot}&-3.&\\hspace{-1em}58&\\hspace{-1em}\\phantom{\\cdot}&0\\phantom{.}&\\hspace{-1em}&\\hspace{-1em}\\phantom{\\cdot}&-9.&\\hspace{-1em}79&\\hspace{-1em}\\phantom{\\cdot}&-0.&\\hspace{-1em}435&\\hspace{-1em}\\phantom{\\cdot}\\\\\n",
       "-12.&\\hspace{-1em}2&\\hspace{-1em}\\phantom{\\cdot}&-0.&\\hspace{-1em}505&\\hspace{-1em}\\phantom{\\cdot}&1.&\\hspace{-1em}23&\\hspace{-1em}\\phantom{\\cdot}&-5.&\\hspace{-1em}95&\\hspace{-1em}\\phantom{\\cdot}&0\\phantom{.}&\\hspace{-1em}&\\hspace{-1em}\\phantom{\\cdot}&-16.&\\hspace{-1em}1&\\hspace{-1em}\\phantom{\\cdot}&-0.&\\hspace{-1em}114&\\hspace{-1em}\\phantom{\\cdot}\\\\\n",
       "\\hline\n",
       "0\\phantom{.}&\\hspace{-1em}&\\hspace{-1em}\\phantom{\\cdot}&1\\phantom{.}&\\hspace{-1em}&\\hspace{-1em}\\phantom{\\cdot}&0\\phantom{.}&\\hspace{-1em}&\\hspace{-1em}\\phantom{\\cdot}&0\\phantom{.}&\\hspace{-1em}&\\hspace{-1em}\\phantom{\\cdot}&0\\phantom{.}&\\hspace{-1em}&\\hspace{-1em}\\phantom{\\cdot}&0\\phantom{.}&\\hspace{-1em}&\\hspace{-1em}\\phantom{\\cdot}&0\\phantom{.}&\\hspace{-1em}&\\hspace{-1em}\\phantom{\\cdot}\\\\\n",
       "0\\phantom{.}&\\hspace{-1em}&\\hspace{-1em}\\phantom{\\cdot}&0\\phantom{.}&\\hspace{-1em}&\\hspace{-1em}\\phantom{\\cdot}&1\\phantom{.}&\\hspace{-1em}&\\hspace{-1em}\\phantom{\\cdot}&0\\phantom{.}&\\hspace{-1em}&\\hspace{-1em}\\phantom{\\cdot}&0\\phantom{.}&\\hspace{-1em}&\\hspace{-1em}\\phantom{\\cdot}&0\\phantom{.}&\\hspace{-1em}&\\hspace{-1em}\\phantom{\\cdot}&0\\phantom{.}&\\hspace{-1em}&\\hspace{-1em}\\phantom{\\cdot}\\\\\n",
       "\\end{array}\\right)\n",
       "$$"
      ],
      "text/plain": [
       "<LinearIOSystem:sys[4]:['u[0]', 'u[1]', 'u[2]']->['y[0]', 'y[1]']>"
      ]
     },
     "execution_count": 28,
     "metadata": {},
     "output_type": "execute_result"
    }
   ],
   "source": [
    "# Compute closed-loop system\n",
    "Acl = A - np.dot(B, K)\n",
    "syscl = ctrl.ss(Acl, B, C, D)\n",
    "syscl"
   ]
  },
  {
   "cell_type": "code",
   "execution_count": 29,
   "metadata": {},
   "outputs": [],
   "source": [
    "u = [0, 0]\n",
    "X0  = [0.1, 5, 0, 0]\n",
    "tempo = np.linspace(0, 90, 400000)\n",
    "\n",
    "t, amp,yr = ctrl.forced_response(syscl, tempo, 0 ,X0,return_x = 'True')"
   ]
  },
  {
   "cell_type": "code",
   "execution_count": 33,
   "metadata": {},
   "outputs": [
    {
     "data": {
      "image/png": "[encoded data removed]",
      "text/plain": [
       "<Figure size 800x1000 with 2 Axes>"
      ]
     },
     "metadata": {},
     "output_type": "display_data"
    }
   ],
   "source": [
    "# Criando os subplots\n",
    "fig, axes = plt.subplots(2, 1, figsize=(8, 10))\n",
    "\n",
    "# Plot Vx\n",
    "axes[0].plot(t, yr[1], color='blue')\n",
    "axes[0].set_ylabel(r'$V_x$')\n",
    "axes[0].set_xlabel('Time')\n",
    "axes[0].legend([r'$V_x$'], loc='upper right')\n",
    "\n",
    "# Plot Vy\n",
    "axes[1].plot(t, yr[2], color='blue')\n",
    "axes[1].set_ylabel(r'$V_y$')\n",
    "axes[1].set_xlabel('Time')\n",
    "axes[1].legend([r'$V_y$'], loc='upper right')\n",
    "\n",
    "plt.tight_layout()\n",
    "plt.show()"
   ]
  },
  {
   "cell_type": "code",
   "execution_count": 31,
   "metadata": {},
   "outputs": [],
   "source": [
    "u = np.dot(-K,yr)"
   ]
  },
  {
   "cell_type": "code",
   "execution_count": 32,
   "metadata": {},
   "outputs": [
    {
     "data": {
      "image/png": "[encoded data removed]",
      "text/plain": [
       "<Figure size 800x1000 with 2 Axes>"
      ]
     },
     "metadata": {},
     "output_type": "display_data"
    }
   ],
   "source": [
    "fig, axes = plt.subplots(2, 1, figsize=(8, 10))\n",
    "\n",
    "# Plot Theta\n",
    "axes[0].plot(t, u[0], color='blue')\n",
    "axes[0].set_ylabel(r'$T$')\n",
    "axes[0].set_xlabel('Time')\n",
    "axes[0].legend([r'$T$'], loc='upper right')\n",
    "\n",
    "# Plot VX\n",
    "axes[1].plot(t, u[1], color='blue')\n",
    "axes[1].set_ylabel(r'$\\tau$')\n",
    "axes[1].set_xlabel('Time')\n",
    "axes[1].legend([r'$\\tau$'], loc='upper right')\n",
    "\n",
    "plt.tight_layout()\n",
    "plt.show()"
   ]
  }
 ],
 "metadata": {
  "kernelspec": {
   "display_name": "Python 3",
   "language": "python",
   "name": "python3"
  },
  "language_info": {
   "codemirror_mode": {
    "name": "ipython",
    "version": 3
   },
   "file_extension": ".py",
   "mimetype": "text/x-python",
   "name": "python",
   "nbconvert_exporter": "python",
   "pygments_lexer": "ipython3",
   "version": "3.11.2"
  }
 },
 "nbformat": 4,
 "nbformat_minor": 2
}
