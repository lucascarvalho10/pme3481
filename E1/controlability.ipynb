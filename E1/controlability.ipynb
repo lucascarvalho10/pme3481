{
 "cells": [
  {
   "cell_type": "markdown",
   "metadata": {},
   "source": [
    "# PME3481 - Controle e Aplicações\n",
    "\n",
    "## Controlabilidade e Observabilidade"
   ]
  },
  {
   "cell_type": "markdown",
   "metadata": {},
   "source": [
    "Supondo um SLIT, o código permite avaliar se é ou não controlável a partir das matrizes A e B, avaliando o gramiano, tal qual utilizando as matrizes A e C, avaliando a observabilidade."
   ]
  },
  {
   "cell_type": "code",
   "execution_count": 1,
   "metadata": {},
   "outputs": [],
   "source": [
    "import numpy as np\n",
    "import control"
   ]
  },
  {
   "cell_type": "markdown",
   "metadata": {},
   "source": [
    "As duas funções que realizam a análise de controlabilidade e observabilidade do sistema"
   ]
  },
  {
   "cell_type": "code",
   "execution_count": 2,
   "metadata": {},
   "outputs": [],
   "source": [
    "def is_controllable(A, B):\n",
    "    \"\"\"\n",
    "    Check if a system defined by its state matrix A and input matrix B is controllable.\n",
    "    \"\"\"\n",
    "    return np.linalg.matrix_rank(control.ctrb(A, B)) == A.shape[0], control.ctrb(A, B)"
   ]
  },
  {
   "cell_type": "code",
   "execution_count": 3,
   "metadata": {},
   "outputs": [],
   "source": [
    "def is_observable(A, C):\n",
    "    \"\"\"\n",
    "    Check if a system defined by its state matrix A and output matrix C is observable.\n",
    "    \"\"\"\n",
    "    return np.linalg.matrix_rank(control.obsv(A, C)) == A.shape[0], control.obsv(A, C)"
   ]
  },
  {
   "cell_type": "markdown",
   "metadata": {},
   "source": [
    "Abaixo, as matrizes do sistema definidas"
   ]
  },
  {
   "cell_type": "code",
   "execution_count": 4,
   "metadata": {},
   "outputs": [],
   "source": [
    "Xcm = 1.052\n",
    "Xpe = 0.261\n",
    "L = 3.304\n",
    "Df = 0.127\n",
    "Tlin = 230.57\n",
    "Izz = 15.07\n",
    "M = 23.545\n",
    "g = 9.8055\n",
    "dar = 1.091\n",
    "Cd = 0.432\n",
    "Vxlin = -10.0"
   ]
  },
  {
   "cell_type": "code",
   "execution_count": 5,
   "metadata": {},
   "outputs": [
    {
     "data": {
      "text/latex": [
       "$$\n",
       "\\left(\\begin{array}{rllrllrllrll|rllrll}\n",
       "0\\phantom{.}&\\hspace{-1em}&\\hspace{-1em}\\phantom{\\cdot}&0\\phantom{.}&\\hspace{-1em}&\\hspace{-1em}\\phantom{\\cdot}&0\\phantom{.}&\\hspace{-1em}&\\hspace{-1em}\\phantom{\\cdot}&1\\phantom{.}&\\hspace{-1em}&\\hspace{-1em}\\phantom{\\cdot}&0\\phantom{.}&\\hspace{-1em}&\\hspace{-1em}\\phantom{\\cdot}&0\\phantom{.}&\\hspace{-1em}&\\hspace{-1em}\\phantom{\\cdot}\\\\\n",
       "0.&\\hspace{-1em}42&\\hspace{-1em}\\phantom{\\cdot}&-0.&\\hspace{-1em}00254&\\hspace{-1em}\\phantom{\\cdot}&0\\phantom{.}&\\hspace{-1em}&\\hspace{-1em}\\phantom{\\cdot}&0\\phantom{.}&\\hspace{-1em}&\\hspace{-1em}\\phantom{\\cdot}&0.&\\hspace{-1em}0425&\\hspace{-1em}\\phantom{\\cdot}&0\\phantom{.}&\\hspace{-1em}&\\hspace{-1em}\\phantom{\\cdot}\\\\\n",
       "-9.&\\hspace{-1em}79&\\hspace{-1em}\\phantom{\\cdot}&0\\phantom{.}&\\hspace{-1em}&\\hspace{-1em}\\phantom{\\cdot}&0\\phantom{.}&\\hspace{-1em}&\\hspace{-1em}\\phantom{\\cdot}&0\\phantom{.}&\\hspace{-1em}&\\hspace{-1em}\\phantom{\\cdot}&0\\phantom{.}&\\hspace{-1em}&\\hspace{-1em}\\phantom{\\cdot}&-9.&\\hspace{-1em}79&\\hspace{-1em}\\phantom{\\cdot}\\\\\n",
       "0.&\\hspace{-1em}00517&\\hspace{-1em}\\phantom{\\cdot}&0\\phantom{.}&\\hspace{-1em}&\\hspace{-1em}\\phantom{\\cdot}&0\\phantom{.}&\\hspace{-1em}&\\hspace{-1em}\\phantom{\\cdot}&0\\phantom{.}&\\hspace{-1em}&\\hspace{-1em}\\phantom{\\cdot}&0\\phantom{.}&\\hspace{-1em}&\\hspace{-1em}\\phantom{\\cdot}&-16.&\\hspace{-1em}1&\\hspace{-1em}\\phantom{\\cdot}\\\\\n",
       "\\hline\n",
       "1\\phantom{.}&\\hspace{-1em}&\\hspace{-1em}\\phantom{\\cdot}&0\\phantom{.}&\\hspace{-1em}&\\hspace{-1em}\\phantom{\\cdot}&0\\phantom{.}&\\hspace{-1em}&\\hspace{-1em}\\phantom{\\cdot}&0\\phantom{.}&\\hspace{-1em}&\\hspace{-1em}\\phantom{\\cdot}&0\\phantom{.}&\\hspace{-1em}&\\hspace{-1em}\\phantom{\\cdot}&0\\phantom{.}&\\hspace{-1em}&\\hspace{-1em}\\phantom{\\cdot}\\\\\n",
       "0\\phantom{.}&\\hspace{-1em}&\\hspace{-1em}\\phantom{\\cdot}&1\\phantom{.}&\\hspace{-1em}&\\hspace{-1em}\\phantom{\\cdot}&0\\phantom{.}&\\hspace{-1em}&\\hspace{-1em}\\phantom{\\cdot}&0\\phantom{.}&\\hspace{-1em}&\\hspace{-1em}\\phantom{\\cdot}&0\\phantom{.}&\\hspace{-1em}&\\hspace{-1em}\\phantom{\\cdot}&0\\phantom{.}&\\hspace{-1em}&\\hspace{-1em}\\phantom{\\cdot}\\\\\n",
       "0\\phantom{.}&\\hspace{-1em}&\\hspace{-1em}\\phantom{\\cdot}&0\\phantom{.}&\\hspace{-1em}&\\hspace{-1em}\\phantom{\\cdot}&1\\phantom{.}&\\hspace{-1em}&\\hspace{-1em}\\phantom{\\cdot}&0\\phantom{.}&\\hspace{-1em}&\\hspace{-1em}\\phantom{\\cdot}&0\\phantom{.}&\\hspace{-1em}&\\hspace{-1em}\\phantom{\\cdot}&0\\phantom{.}&\\hspace{-1em}&\\hspace{-1em}\\phantom{\\cdot}\\\\\n",
       "0\\phantom{.}&\\hspace{-1em}&\\hspace{-1em}\\phantom{\\cdot}&0\\phantom{.}&\\hspace{-1em}&\\hspace{-1em}\\phantom{\\cdot}&0\\phantom{.}&\\hspace{-1em}&\\hspace{-1em}\\phantom{\\cdot}&1\\phantom{.}&\\hspace{-1em}&\\hspace{-1em}\\phantom{\\cdot}&0\\phantom{.}&\\hspace{-1em}&\\hspace{-1em}\\phantom{\\cdot}&0\\phantom{.}&\\hspace{-1em}&\\hspace{-1em}\\phantom{\\cdot}\\\\\n",
       "\\end{array}\\right)\n",
       "$$"
      ],
      "text/plain": [
       "StateSpace(array([[ 0.00000000e+00,  0.00000000e+00,  0.00000000e+00,\n",
       "         1.00000000e+00],\n",
       "       [ 4.19975124e-01, -2.53575404e-03,  0.00000000e+00,\n",
       "         0.00000000e+00],\n",
       "       [-9.79282123e+00,  0.00000000e+00,  0.00000000e+00,\n",
       "         0.00000000e+00],\n",
       "       [ 5.17014925e-03,  0.00000000e+00,  0.00000000e+00,\n",
       "         0.00000000e+00]]), array([[  0.        ,   0.        ],\n",
       "       [  0.04247186,   0.        ],\n",
       "       [  0.        ,  -9.79273731],\n",
       "       [  0.        , -16.09553019]]), array([[1., 0., 0., 0.],\n",
       "       [0., 1., 0., 0.],\n",
       "       [0., 0., 1., 0.],\n",
       "       [0., 0., 0., 1.]]), array([[0., 0.],\n",
       "       [0., 0.],\n",
       "       [0., 0.],\n",
       "       [0., 0.]]))"
      ]
     },
     "execution_count": 5,
     "metadata": {},
     "output_type": "execute_result"
    }
   ],
   "source": [
    "# X = [x,y,theta,xp,yp,thetap]\n",
    "# Xp = [xp,yp,thetap,xpp,ypp,thetapp]\n",
    "A = np.array([[0, 0, 0, 1],\n",
    "              [(1/M)*((1/2)*dar*Cd*Vxlin**2*L*Df), (1/M)*(Vxlin *dar*Cd*((Df/2)**2*np.pi)), 0, 0],\n",
    "              [(1/M)*(-M*g+(1/2)*Vxlin**2*dar*Cd*(np.pi*(Df/2)**2)), 0, 0, 0],\n",
    "              [(1/Izz)*((1/2)*Vxlin**2*dar*Xpe*Cd*(np.pi*(Df/2)**2)), 0, 0, 0]])\n",
    "\n",
    "# u = [T,tau]\n",
    "\n",
    "B = np.array([[0, 0],\n",
    "              [1/M, 0],\n",
    "              [0, -Tlin/M],\n",
    "              [0, -Tlin*Xcm/Izz]])\n",
    "\n",
    "C = np.array([[ 1, 0, 0, 0],\n",
    "              [ 0, 1, 0, 0],\n",
    "              [ 0, 0, 1, 0],\n",
    "              [ 0, 0, 0, 1]])\n",
    "\n",
    "D = np.array([[ 0, 0],\n",
    "              [ 0, 0],\n",
    "              [ 0, 0],\n",
    "              [ 0, 0]])\n",
    "\n",
    "sys = control.StateSpace(A, B, C, D)\n",
    "sys"
   ]
  },
  {
   "cell_type": "code",
   "execution_count": 8,
   "metadata": {},
   "outputs": [
    {
     "name": "stdout",
     "output_type": "stream",
     "text": [
      "System is controllable.\n",
      "controlability Matrix\n",
      "[[ 0.00000000e+00  0.00000000e+00  0.00000000e+00 -1.60955302e+01\n",
      "   0.00000000e+00  0.00000000e+00  0.00000000e+00 -8.32162933e-02]\n",
      " [ 4.24718624e-02  0.00000000e+00 -1.07698197e-04  0.00000000e+00\n",
      "   2.73096137e-07 -6.75972228e+00 -6.92504632e-10  1.71409931e-02]\n",
      " [ 0.00000000e+00 -9.79273731e+00  0.00000000e+00  0.00000000e+00\n",
      "   0.00000000e+00  1.57620650e+02  0.00000000e+00  0.00000000e+00]\n",
      " [ 0.00000000e+00 -1.60955302e+01  0.00000000e+00  0.00000000e+00\n",
      "   0.00000000e+00 -8.32162933e-02  0.00000000e+00  0.00000000e+00]]\n",
      "System is observable.\n",
      "Observability Matrix\n",
      "[[ 1.00000000e+00  0.00000000e+00  0.00000000e+00  0.00000000e+00]\n",
      " [ 0.00000000e+00  1.00000000e+00  0.00000000e+00  0.00000000e+00]\n",
      " [ 0.00000000e+00  0.00000000e+00  1.00000000e+00  0.00000000e+00]\n",
      " [ 0.00000000e+00  0.00000000e+00  0.00000000e+00  1.00000000e+00]\n",
      " [ 0.00000000e+00  0.00000000e+00  0.00000000e+00  1.00000000e+00]\n",
      " [ 4.19975124e-01 -2.53575404e-03  0.00000000e+00  0.00000000e+00]\n",
      " [-9.79282123e+00  0.00000000e+00  0.00000000e+00  0.00000000e+00]\n",
      " [ 5.17014925e-03  0.00000000e+00  0.00000000e+00  0.00000000e+00]\n",
      " [ 5.17014925e-03  0.00000000e+00  0.00000000e+00  0.00000000e+00]\n",
      " [-1.06495362e-03  6.43004855e-06  0.00000000e+00  4.19975124e-01]\n",
      " [ 0.00000000e+00  0.00000000e+00  0.00000000e+00 -9.79282123e+00]\n",
      " [ 0.00000000e+00  0.00000000e+00  0.00000000e+00  5.17014925e-03]\n",
      " [ 0.00000000e+00  0.00000000e+00  0.00000000e+00  5.17014925e-03]\n",
      " [ 2.17403453e-03 -1.63050216e-08  0.00000000e+00 -1.06495362e-03]\n",
      " [-5.06303473e-02  0.00000000e+00  0.00000000e+00  0.00000000e+00]\n",
      " [ 2.67304432e-05  0.00000000e+00  0.00000000e+00  0.00000000e+00]]\n"
     ]
    }
   ],
   "source": [
    "is_controllable_result, control_matrix = is_controllable(sys.A, sys.B)\n",
    "if is_controllable_result:\n",
    "    print(\"System is controllable.\")\n",
    "else:\n",
    "    print(\"System is not controllable.\")\n",
    "\n",
    "print(\"controlability Matrix\")\n",
    "print(control_matrix)\n",
    "\n",
    "is_observable_result, observe_matrix = is_observable(sys.A, sys.C)\n",
    "if is_observable_result:\n",
    "    print(\"System is observable.\")\n",
    "else:\n",
    "    print(\"System is not observable.\")\n",
    "\n",
    "print(\"Observability Matrix\")\n",
    "print(observe_matrix)"
   ]
  }
 ],
 "metadata": {
  "kernelspec": {
   "display_name": "Python 3",
   "language": "python",
   "name": "python3"
  },
  "language_info": {
   "codemirror_mode": {
    "name": "ipython",
    "version": 3
   },
   "file_extension": ".py",
   "mimetype": "text/x-python",
   "name": "python",
   "nbconvert_exporter": "python",
   "pygments_lexer": "ipython3",
   "version": "3.11.2"
  }
 },
 "nbformat": 4,
 "nbformat_minor": 2
}
