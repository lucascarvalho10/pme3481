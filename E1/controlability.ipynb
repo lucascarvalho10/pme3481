{
 "cells": [
  {
   "cell_type": "markdown",
   "metadata": {},
   "source": [
    "# Controlabilidade e Observabilidade"
   ]
  },
  {
   "cell_type": "markdown",
   "metadata": {},
   "source": [
    "Supondo um SLIT, o código permite avaliar se é ou não controlável a partir das matrizes A e B, avaliando o gramiano, tal qual utilizando as matrizes A e C, avaliando a observabilidade."
   ]
  },
  {
   "cell_type": "code",
   "execution_count": 1,
   "metadata": {},
   "outputs": [],
   "source": [
    "import numpy as np\n",
    "import control"
   ]
  },
  {
   "cell_type": "markdown",
   "metadata": {},
   "source": [
    "As duas funções que realizam a análise de controlabilidade e observabilidade do sistema"
   ]
  },
  {
   "cell_type": "code",
   "execution_count": 2,
   "metadata": {},
   "outputs": [],
   "source": [
    "def is_controllable(A, B):\n",
    "    \"\"\"\n",
    "    Check if a system defined by its state matrix A and input matrix B is controllable.\n",
    "    \"\"\"\n",
    "    sys = control.StateSpace(A, B, np.eye(A.shape[0]), np.zeros((A.shape[0], B.shape[1])))\n",
    "    return control.ctrb(sys.A, sys.B).shape[0] == A.shape[0]"
   ]
  },
  {
   "cell_type": "code",
   "execution_count": 3,
   "metadata": {},
   "outputs": [],
   "source": [
    "def is_observable(A, C):\n",
    "    \"\"\"\n",
    "    Check if a system defined by its state matrix A and output matrix C is observable.\n",
    "    \"\"\"\n",
    "    sys = control.StateSpace(A, np.zeros((A.shape[0], 1)), C, np.zeros((C.shape[0], 1)))\n",
    "    return control.obsv(sys.A, sys.C).shape[0] == A.shape[0]"
   ]
  },
  {
   "cell_type": "markdown",
   "metadata": {},
   "source": [
    "Abaixo, as matrizes do sistema definidas"
   ]
  },
  {
   "cell_type": "code",
   "execution_count": 4,
   "metadata": {},
   "outputs": [],
   "source": [
    "Xcm = 1.052\n",
    "Xpe = 0.261\n",
    "L = 3.304\n",
    "Df = 0.127\n",
    "Tlin = 230.57\n",
    "Izz = 15.07\n",
    "M = 23.545\n",
    "g = 9.8055\n",
    "dar = 1.091\n",
    "Cd = 0.432\n",
    "Vxlin = -10.0"
   ]
  },
  {
   "cell_type": "code",
   "execution_count": 5,
   "metadata": {},
   "outputs": [],
   "source": [
    "# X = [x,y,theta,xp,yp,thetap]\n",
    "# Xp = [xp,yp,thetap,xpp,ypp,thetapp]\n",
    "A = np.array([[0, 0, 0, 1, 0, 0],\n",
    "              [0, 0, 0, 0, 1, 0],\n",
    "              [0, 0, 0, 0, 0, 1],\n",
    "              [0, 0, 0, (-1/M)*(Vxlin *dar*Cd*((Df/2)**2*np.pi)), 0, 0],\n",
    "              [0, 0, (1/M)*(-M*g-(1/2)*Vxlin**2*dar*Cd*(np.pi*(Df/2)**2)), 0, 0, 0],\n",
    "              [0, 0, (1/Izz)*((1/2)*Vxlin**2*dar*Xpe*Cd*(np.pi*(Df/2)**2)), 0, 0, 0]])\n",
    "# u = [T,tau]\n",
    "B = np.array([[0, 0],\n",
    "              [0, 0],\n",
    "              [0, 0],\n",
    "              [1/M, 0],\n",
    "              [0, -Tlin/M],\n",
    "              [0, -Tlin*Xcm/Izz]])\n",
    "\n",
    "C = np.array([[ 0, 0, 1, 0, 0, 0],\n",
    "              [ 0, 0, 0, 1, 0, 0],\n",
    "              [ 0, 0, 0, 0, 1, 0]])\n",
    "\n",
    "D = np.array([[ 0, 0],\n",
    "              [ 0, 0],\n",
    "              [ 0, 0]])"
   ]
  },
  {
   "cell_type": "code",
   "execution_count": 6,
   "metadata": {},
   "outputs": [
    {
     "name": "stdout",
     "output_type": "stream",
     "text": [
      "System is controllable.\n",
      "System is not observable.\n"
     ]
    }
   ],
   "source": [
    "if is_controllable(A, B):\n",
    "    print(\"System is controllable.\")\n",
    "else:\n",
    "    print(\"System is not controllable.\")\n",
    "\n",
    "if is_observable(A, C):\n",
    "    print(\"System is observable.\")\n",
    "else:\n",
    "    print(\"System is not observable.\")"
   ]
  }
 ],
 "metadata": {
  "kernelspec": {
   "display_name": "Python 3",
   "language": "python",
   "name": "python3"
  },
  "language_info": {
   "codemirror_mode": {
    "name": "ipython",
    "version": 3
   },
   "file_extension": ".py",
   "mimetype": "text/x-python",
   "name": "python",
   "nbconvert_exporter": "python",
   "pygments_lexer": "ipython3",
   "version": "3.11.2"
  }
 },
 "nbformat": 4,
 "nbformat_minor": 2
}
