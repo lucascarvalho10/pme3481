{
 "cells": [
  {
   "cell_type": "markdown",
   "metadata": {},
   "source": [
    "# PME3481 - Controle e Aplicações\n",
    "\n",
    "## Controlabilidade e Observabilidade"
   ]
  },
  {
   "cell_type": "markdown",
   "metadata": {},
   "source": [
    "Supondo um SLIT, o código permite avaliar se é ou não controlável a partir das matrizes A e B, avaliando o gramiano, tal qual utilizando as matrizes A e C, avaliando a observabilidade."
   ]
  },
  {
   "cell_type": "code",
   "execution_count": 10,
   "metadata": {},
   "outputs": [],
   "source": [
    "import numpy as np\n",
    "import control"
   ]
  },
  {
   "cell_type": "markdown",
   "metadata": {},
   "source": [
    "As duas funções que realizam a análise de controlabilidade e observabilidade do sistema"
   ]
  },
  {
   "cell_type": "code",
   "execution_count": 11,
   "metadata": {},
   "outputs": [],
   "source": [
    "def is_controllable(A, B):\n",
    "    \"\"\"\n",
    "    Check if a system defined by its state matrix A and input matrix B is controllable.\n",
    "    \"\"\"\n",
    "    return np.linalg.matrix_rank(control.ctrb(A, B)) == A.shape[0], control.ctrb(A, B)"
   ]
  },
  {
   "cell_type": "code",
   "execution_count": 12,
   "metadata": {},
   "outputs": [],
   "source": [
    "def is_observable(A, C):\n",
    "    \"\"\"\n",
    "    Check if a system defined by its state matrix A and output matrix C is observable.\n",
    "    \"\"\"\n",
    "    return np.linalg.matrix_rank(control.obsv(A, C)) == A.shape[0], control.obsv(A, C)"
   ]
  },
  {
   "cell_type": "markdown",
   "metadata": {},
   "source": [
    "Abaixo, as matrizes do sistema definidas"
   ]
  },
  {
   "cell_type": "code",
   "execution_count": 13,
   "metadata": {},
   "outputs": [],
   "source": [
    "Xcm = 1.052\n",
    "Xpe = 0.261\n",
    "L = 3.304\n",
    "Df = 0.127\n",
    "Tlin = 230.57\n",
    "Izz = 15.07\n",
    "M = 23.545\n",
    "g = 9.8055\n",
    "dar = 1.091\n",
    "Cd = 0.432\n",
    "Vxlin = -10.0\n",
    "Vvlin = 2.2"
   ]
  },
  {
   "cell_type": "code",
   "execution_count": 14,
   "metadata": {},
   "outputs": [
    {
     "data": {
      "text/latex": [
       "$$\n",
       "\\left(\\begin{array}{rllrllrllrll|rllrll}\n",
       "0\\phantom{.}&\\hspace{-1em}&\\hspace{-1em}\\phantom{\\cdot}&0\\phantom{.}&\\hspace{-1em}&\\hspace{-1em}\\phantom{\\cdot}&0\\phantom{.}&\\hspace{-1em}&\\hspace{-1em}\\phantom{\\cdot}&1\\phantom{.}&\\hspace{-1em}&\\hspace{-1em}\\phantom{\\cdot}&0\\phantom{.}&\\hspace{-1em}&\\hspace{-1em}\\phantom{\\cdot}&0\\phantom{.}&\\hspace{-1em}&\\hspace{-1em}\\phantom{\\cdot}\\\\\n",
       "0.&\\hspace{-1em}44&\\hspace{-1em}\\phantom{\\cdot}&-0.&\\hspace{-1em}00254&\\hspace{-1em}\\phantom{\\cdot}&0\\phantom{.}&\\hspace{-1em}&\\hspace{-1em}\\phantom{\\cdot}&0\\phantom{.}&\\hspace{-1em}&\\hspace{-1em}\\phantom{\\cdot}&0.&\\hspace{-1em}0425&\\hspace{-1em}\\phantom{\\cdot}&0\\phantom{.}&\\hspace{-1em}&\\hspace{-1em}\\phantom{\\cdot}\\\\\n",
       "-9.&\\hspace{-1em}79&\\hspace{-1em}\\phantom{\\cdot}&0\\phantom{.}&\\hspace{-1em}&\\hspace{-1em}\\phantom{\\cdot}&0\\phantom{.}&\\hspace{-1em}&\\hspace{-1em}\\phantom{\\cdot}&0\\phantom{.}&\\hspace{-1em}&\\hspace{-1em}\\phantom{\\cdot}&0\\phantom{.}&\\hspace{-1em}&\\hspace{-1em}\\phantom{\\cdot}&-9.&\\hspace{-1em}79&\\hspace{-1em}\\phantom{\\cdot}\\\\\n",
       "0.&\\hspace{-1em}00492&\\hspace{-1em}\\phantom{\\cdot}&0\\phantom{.}&\\hspace{-1em}&\\hspace{-1em}\\phantom{\\cdot}&0\\phantom{.}&\\hspace{-1em}&\\hspace{-1em}\\phantom{\\cdot}&0\\phantom{.}&\\hspace{-1em}&\\hspace{-1em}\\phantom{\\cdot}&0\\phantom{.}&\\hspace{-1em}&\\hspace{-1em}\\phantom{\\cdot}&-16.&\\hspace{-1em}1&\\hspace{-1em}\\phantom{\\cdot}\\\\\n",
       "\\hline\n",
       "0\\phantom{.}&\\hspace{-1em}&\\hspace{-1em}\\phantom{\\cdot}&1\\phantom{.}&\\hspace{-1em}&\\hspace{-1em}\\phantom{\\cdot}&0\\phantom{.}&\\hspace{-1em}&\\hspace{-1em}\\phantom{\\cdot}&0\\phantom{.}&\\hspace{-1em}&\\hspace{-1em}\\phantom{\\cdot}&0\\phantom{.}&\\hspace{-1em}&\\hspace{-1em}\\phantom{\\cdot}&0\\phantom{.}&\\hspace{-1em}&\\hspace{-1em}\\phantom{\\cdot}\\\\\n",
       "0\\phantom{.}&\\hspace{-1em}&\\hspace{-1em}\\phantom{\\cdot}&0\\phantom{.}&\\hspace{-1em}&\\hspace{-1em}\\phantom{\\cdot}&1\\phantom{.}&\\hspace{-1em}&\\hspace{-1em}\\phantom{\\cdot}&0\\phantom{.}&\\hspace{-1em}&\\hspace{-1em}\\phantom{\\cdot}&0\\phantom{.}&\\hspace{-1em}&\\hspace{-1em}\\phantom{\\cdot}&0\\phantom{.}&\\hspace{-1em}&\\hspace{-1em}\\phantom{\\cdot}\\\\\n",
       "\\end{array}\\right)\n",
       "$$"
      ],
      "text/plain": [
       "<LinearIOSystem:sys[6]:['u[0]', 'u[1]']->['y[0]', 'y[1]']>"
      ]
     },
     "execution_count": 14,
     "metadata": {},
     "output_type": "execute_result"
    }
   ],
   "source": [
    "# X = [theta,xp,yp,thetap]\n",
    "# Xp = [thetap,xpp,ypp,thetapp]\n",
    "A = np.array([\n",
    "    [0.00000000e+00,  0.00000000e+00,  0.00000000e+00,  1.00000000e+00],\n",
    "    [4.40301920e-01, -2.53575404e-03,  0.00000000e+00,  0.00000000e+00],\n",
    "    [-9.79343488e+00,  0.00000000e+00,  0.00000000e+00,  0.00000000e+00],\n",
    "    [4.91991402e-03,  0.00000000e+00,  0.00000000e+00,  0.00000000e+00]\n",
    "])\n",
    "\n",
    "# u = [T,tau]\n",
    "\n",
    "# B = np.array([[0, 0, 0],\n",
    "#               [1/M, 0, 0],\n",
    "#               [0, -Tlin/M, - (1/2)*dar*Cd*L*Df*2*Vvlin],\n",
    "#               [0, -Tlin*Xcm/Izz, - (1/2)*dar*Cd*Xpe*L*Df*2*Vvlin]]) \n",
    "\n",
    "E = np.array([[0],\n",
    "              [0],\n",
    "              [ (- (1/2)*dar*Cd*L*Df*2*Vvlin)/(M*Izz)],\n",
    "              [(- (1/2)*dar*Cd*Xpe*L*Df*2*Vvlin)/(M*Izz)]])\n",
    "\n",
    "B = np.array([[0, 0],\n",
    "              [1/M, 0],\n",
    "              [0, -Tlin/M],\n",
    "              [0, -Tlin*Xcm/Izz]])\n",
    "\n",
    "C = np.array([\n",
    "    [0.,  1.,  0.,  0.],\n",
    "    [0.,  0.,  1.,  0.]\n",
    "])\n",
    "\n",
    "D = np.array([\n",
    "    [0.,  0.],\n",
    "    [0.,  0.]\n",
    "])\n",
    "\n",
    "cont = control.StateSpace(A, B, C, D)\n",
    "\n",
    "sys = control.ss(A, B, C, D)\n",
    "sys"
   ]
  },
  {
   "cell_type": "code",
   "execution_count": 21,
   "metadata": {},
   "outputs": [
    {
     "data": {
      "text/plain": [
       "(array([[ 0.00000000e+00,  0.00000000e+00,  0.00000000e+00,\n",
       "         -1.60955302e+01,  0.00000000e+00,  0.00000000e+00,\n",
       "          0.00000000e+00, -7.91886247e-02],\n",
       "        [ 4.24718624e-02,  0.00000000e+00, -1.07698197e-04,\n",
       "          0.00000000e+00,  2.73096137e-07, -7.08689285e+00,\n",
       "         -6.92504633e-10,  1.79706172e-02],\n",
       "        [ 0.00000000e+00, -9.79273731e+00,  0.00000000e+00,\n",
       "          0.00000000e+00,  0.00000000e+00,  1.57630527e+02,\n",
       "          0.00000000e+00,  0.00000000e+00],\n",
       "        [ 0.00000000e+00, -1.60955302e+01,  0.00000000e+00,\n",
       "          0.00000000e+00,  0.00000000e+00, -7.91886247e-02,\n",
       "          0.00000000e+00,  0.00000000e+00]]),\n",
       " array([[ 0.00000000e+00,  1.00000000e+00,  0.00000000e+00,\n",
       "          0.00000000e+00],\n",
       "        [ 0.00000000e+00,  0.00000000e+00,  1.00000000e+00,\n",
       "          0.00000000e+00],\n",
       "        [ 4.40301920e-01, -2.53575404e-03,  0.00000000e+00,\n",
       "          0.00000000e+00],\n",
       "        [-9.79343488e+00,  0.00000000e+00,  0.00000000e+00,\n",
       "          0.00000000e+00],\n",
       "        [-1.11649737e-03,  6.43004855e-06,  0.00000000e+00,\n",
       "          4.40301920e-01],\n",
       "        [ 0.00000000e+00,  0.00000000e+00,  0.00000000e+00,\n",
       "         -9.79343488e+00],\n",
       "        [ 2.16907875e-03, -1.63050216e-08,  0.00000000e+00,\n",
       "         -1.11649737e-03],\n",
       "        [-4.81828576e-02,  0.00000000e+00,  0.00000000e+00,\n",
       "          0.00000000e+00]]))"
      ]
     },
     "execution_count": 21,
     "metadata": {},
     "output_type": "execute_result"
    }
   ],
   "source": [
    "# Calculando a matriz de Controlabilidade\n",
    "controllability_matrix = B\n",
    "for i in range(1, 4):\n",
    "    controllability_matrix = np.hstack((controllability_matrix, np.linalg.matrix_power(A, i) @ B))\n",
    "\n",
    "# Calculando a matriz de Observabilidade\n",
    "observability_matrix = C\n",
    "for i in range(1, 4):\n",
    "    observability_matrix = np.vstack((observability_matrix, C @ np.linalg.matrix_power(A, i)))\n",
    "\n",
    "controllability_matrix, observability_matrix"
   ]
  }
 ],
 "metadata": {
  "kernelspec": {
   "display_name": "Python 3",
   "language": "python",
   "name": "python3"
  },
  "language_info": {
   "codemirror_mode": {
    "name": "ipython",
    "version": 3
   },
   "file_extension": ".py",
   "mimetype": "text/x-python",
   "name": "python",
   "nbconvert_exporter": "python",
   "pygments_lexer": "ipython3",
   "version": "3.11.2"
  }
 },
 "nbformat": 4,
 "nbformat_minor": 2
}
