{
 "cells": [
  {
   "cell_type": "markdown",
   "metadata": {},
   "source": [
    "# Síntese pelo LQR"
   ]
  },
  {
   "cell_type": "code",
   "execution_count": 11,
   "metadata": {},
   "outputs": [],
   "source": [
    "import numpy as np\n",
    "import scipy.linalg as la\n",
    "import matplotlib.pyplot as plt\n",
    "import control as ctrl\n",
    "import warnings"
   ]
  },
  {
   "cell_type": "code",
   "execution_count": 12,
   "metadata": {},
   "outputs": [],
   "source": [
    "warnings.simplefilter(\"ignore\")  # Ignore all warnings"
   ]
  },
  {
   "cell_type": "markdown",
   "metadata": {},
   "source": [
    "### Estabilidade segundo Lyapunov"
   ]
  },
  {
   "cell_type": "code",
   "execution_count": 13,
   "metadata": {},
   "outputs": [],
   "source": [
    "def check_stability(A):\n",
    "    \"\"\"\n",
    "    Check system stability using Lyapunov's method.\n",
    "    \n",
    "    Parameters:\n",
    "        A (numpy.ndarray): State matrix.\n",
    "    \n",
    "    Returns:\n",
    "        stable (bool): True if the system is stable, False otherwise.\n",
    "    \"\"\"\n",
    "    # Solve the Lyapunov equation A.T @ P + P @ A = -I\n",
    "    P = la.solve_lyapunov(A.T, -np.eye(A.shape[0]))\n",
    "    \n",
    "    # Check if the solution is positive definite\n",
    "    stable = np.all(np.linalg.eigvals(P) > 0)\n",
    "    return stable"
   ]
  },
  {
   "cell_type": "markdown",
   "metadata": {},
   "source": [
    "### Definição da Síntese pelo LQR"
   ]
  },
  {
   "cell_type": "code",
   "execution_count": 14,
   "metadata": {},
   "outputs": [],
   "source": [
    "def lqr(A, B, Q, R):\n",
    "    \"\"\"    \n",
    "    Parameters:\n",
    "        A (numpy.ndarray): State matrix.\n",
    "        B (numpy.ndarray): Input matrix.\n",
    "        Q (numpy.ndarray): State cost matrix.\n",
    "        R (numpy.ndarray): Input cost matrix.\n",
    "    \n",
    "    Returns:\n",
    "        K (numpy.ndarray): Feedback gain matrix.\n",
    "    \"\"\"\n",
    "    P = la.solve_continuous_are(A, B, Q, R)\n",
    "\n",
    "    # Calculate the feedback gain matrix\n",
    "    K = np.linalg.inv(R) @ B.T @ P\n",
    "    return K"
   ]
  },
  {
   "cell_type": "markdown",
   "metadata": {},
   "source": [
    "Definição do modelo"
   ]
  },
  {
   "cell_type": "code",
   "execution_count": 15,
   "metadata": {},
   "outputs": [],
   "source": [
    "Xcm = 1.052\n",
    "Xpe = 0.261\n",
    "L = 3.304\n",
    "Df = 0.127\n",
    "Tlin = 230.57\n",
    "Izz = 15.07\n",
    "M = 23.545\n",
    "g = 9.8055\n",
    "dar = 1.091\n",
    "Cd = 0.432\n",
    "Vxlin = -10.0"
   ]
  },
  {
   "cell_type": "code",
   "execution_count": 16,
   "metadata": {},
   "outputs": [
    {
     "name": "stdout",
     "output_type": "stream",
     "text": [
      "The system is unstable according to Lyapunov's method.\n",
      "LQR Feedback Gain Matrix (K):\n",
      "[[ 10.     -0.      0.     21.989  -0.      0.   ]\n",
      " [ -0.     10.    -37.952  -0.      9.343  -9.887]]\n"
     ]
    }
   ],
   "source": [
    "# X = [x,y,theta,xp,yp,thetap]\n",
    "# Xp = [xp,yp,thetap,xpp,ypp,thetapp]\n",
    "A = np.array([[0, 0, 0, 1, 0, 0],\n",
    "              [0, 0, 0, 0, 1, 0],\n",
    "              [0, 0, 0, 0, 0, 1],\n",
    "              [0, 0, 0, (-1/M)*(Vxlin *dar*Cd*((Df/2)**2*np.pi)), 0, 0],\n",
    "              [0, 0, (1/M)*(-M*g-(1/2)*Vxlin**2*dar*Cd*(np.pi*(Df/2)**2)), 0, 0, 0],\n",
    "              [0, 0, (1/Izz)*((1/2)*Vxlin**2*dar*Xpe*Cd*(np.pi*(Df/2)**2)), 0, 0, 0]])\n",
    "# u = [T,tau]\n",
    "B = np.array([[0, 0],\n",
    "              [0, 0],\n",
    "              [0, 0],\n",
    "              [1/M, 0],\n",
    "              [0, -Tlin/M],\n",
    "              [0, -Tlin*Xcm/Izz]])\n",
    "\n",
    "C = np.array([[ 0, 0, 1, 0, 0, 0],\n",
    "              [ 0, 0, 0, 1, 0, 0],\n",
    "              [ 0, 0, 0, 0, 1, 0]])\n",
    "\n",
    "D = np.array([[ 0, 0],\n",
    "              [ 0, 0],\n",
    "              [ 0, 0]])\n",
    "\n",
    "# Define Q, R matrices (cost matrices)\n",
    "# Define state cost matrix Q\n",
    "Q = np.diag([10, 10, 10, 1, 1, 1])  # Higher importance to position-related states\n",
    "\n",
    "# State cost matrix\n",
    "R = np.diag([0.1, 0.1])  # Moderate penalty for control inputs\n",
    "# Check system stability\n",
    "\n",
    "stable = check_stability(A)\n",
    "if stable:\n",
    "    print(\"The system is stable according to Lyapunov's method.\")\n",
    "else:\n",
    "    print(\"The system is unstable according to Lyapunov's method.\")\n",
    "\n",
    "# Compute LQR controller\n",
    "K = lqr(A, B, Q, R)\n",
    "\n",
    "np.set_printoptions(precision=3, suppress=True)\n",
    "print(\"LQR Feedback Gain Matrix (K):\")\n",
    "print(K)"
   ]
  }
 ],
 "metadata": {
  "kernelspec": {
   "display_name": "Python 3",
   "language": "python",
   "name": "python3"
  },
  "language_info": {
   "codemirror_mode": {
    "name": "ipython",
    "version": 3
   },
   "file_extension": ".py",
   "mimetype": "text/x-python",
   "name": "python",
   "nbconvert_exporter": "python",
   "pygments_lexer": "ipython3",
   "version": "3.11.2"
  }
 },
 "nbformat": 4,
 "nbformat_minor": 2
}
